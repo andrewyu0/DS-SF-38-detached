{
 "cells": [
  {
   "cell_type": "markdown",
   "metadata": {},
   "source": [
    "# DS-SF-38 | 18 | Natural Language Processing | Codelong | Answer Key"
   ]
  },
  {
   "cell_type": "markdown",
   "metadata": {},
   "source": [
    "## >>> One-time setup"
   ]
  },
  {
   "cell_type": "code",
   "execution_count": 1,
   "metadata": {
    "collapsed": true
   },
   "outputs": [],
   "source": [
    "'''\n",
    "import nltk\n",
    "nltk.download()\n",
    "'''\n",
    "\n",
    "pass"
   ]
  },
  {
   "cell_type": "markdown",
   "metadata": {},
   "source": [
    "## <<< One-time setup"
   ]
  },
  {
   "cell_type": "markdown",
   "metadata": {},
   "source": [
    "## Part A | Tokenization and Stemming"
   ]
  },
  {
   "cell_type": "code",
   "execution_count": 2,
   "metadata": {
    "collapsed": true
   },
   "outputs": [],
   "source": [
    "import os\n",
    "\n",
    "import numpy as np\n",
    "import pandas as pd\n",
    "pd.set_option('display.max_rows', 10)\n",
    "pd.set_option('display.notebook_repr_html', True)\n",
    "pd.set_option('display.max_columns', 10)\n",
    "\n",
    "import string\n",
    "import unicodedata\n",
    "from nltk import tokenize, corpus, stem\n",
    "\n",
    "from sklearn import feature_extraction, linear_model, ensemble, model_selection, metrics\n",
    "\n",
    "import matplotlib.pyplot as plt\n",
    "%matplotlib inline\n",
    "plt.style.use('ggplot')"
   ]
  },
  {
   "cell_type": "markdown",
   "metadata": {},
   "source": [
    "## Tokenization"
   ]
  },
  {
   "cell_type": "code",
   "execution_count": 3,
   "metadata": {
    "collapsed": true
   },
   "outputs": [],
   "source": [
    "def tokenize_text(document):\n",
    "    document = document.encode('utf-8')\n",
    "\n",
    "    # Convert text to lowercase\n",
    "    document = document.lower()\n",
    "\n",
    "    # Tokenize\n",
    "    tokens = tokenize.word_tokenize(document)\n",
    "\n",
    "    # Remove punctuation in tokens and then remove empty tokens\n",
    "    tokens = [token.translate(None, string.punctuation) for token in tokens]\n",
    "    tokens = [token for token in tokens if token]\n",
    "\n",
    "    # Remove stop words\n",
    "    tokens = [token for token in tokens if not token in corpus.stopwords.words('english')]\n",
    "\n",
    "    return tokens"
   ]
  },
  {
   "cell_type": "code",
   "execution_count": 4,
   "metadata": {},
   "outputs": [
    {
     "data": {
      "text/plain": [
       "['sentence', 'wait', 'another', 'third']"
      ]
     },
     "execution_count": 4,
     "metadata": {},
     "output_type": "execute_result"
    }
   ],
   "source": [
    "tokens = tokenize_text(\"This is a sentence...  Wait, here's another.  And a third!\")\n",
    "\n",
    "tokens"
   ]
  },
  {
   "cell_type": "markdown",
   "metadata": {},
   "source": [
    "## Stemming"
   ]
  },
  {
   "cell_type": "code",
   "execution_count": 5,
   "metadata": {
    "collapsed": true
   },
   "outputs": [],
   "source": [
    "class Stemmer:\n",
    "    stemmer = stem.porter.PorterStemmer()\n",
    "\n",
    "    @staticmethod\n",
    "    def stem_tokens(tokens):\n",
    "        return [Stemmer.stemmer.stem(token) for token in tokens]"
   ]
  },
  {
   "cell_type": "code",
   "execution_count": 6,
   "metadata": {},
   "outputs": [
    {
     "data": {
      "text/plain": [
       "[u'sentenc', 'wait', u'anoth', 'third']"
      ]
     },
     "execution_count": 6,
     "metadata": {},
     "output_type": "execute_result"
    }
   ],
   "source": [
    "tokens = Stemmer.stem_tokens(tokens)\n",
    "\n",
    "tokens"
   ]
  },
  {
   "cell_type": "markdown",
   "metadata": {},
   "source": [
    "## Part B | Text Classification"
   ]
  },
  {
   "cell_type": "markdown",
   "metadata": {},
   "source": [
    "Below, we will be analyzing a partial list of the reviews for J.K. Rowling's The Casual Vacancy.  (https://www.amazon.com/dp/0316228532)  We scrapped this dataset during class 3."
   ]
  },
  {
   "cell_type": "code",
   "execution_count": 7,
   "metadata": {
    "collapsed": true
   },
   "outputs": [],
   "source": [
    "df = pd.read_csv(os.path.join('..', 'datasets', 'dataset-18-reviews.csv'))"
   ]
  },
  {
   "cell_type": "code",
   "execution_count": 8,
   "metadata": {},
   "outputs": [
    {
     "data": {
      "text/html": [
       "<div>\n",
       "<table border=\"1\" class=\"dataframe\">\n",
       "  <thead>\n",
       "    <tr style=\"text-align: right;\">\n",
       "      <th></th>\n",
       "      <th>date</th>\n",
       "      <th>id</th>\n",
       "      <th>author</th>\n",
       "      <th>title</th>\n",
       "      <th>body</th>\n",
       "      <th>star_rating</th>\n",
       "    </tr>\n",
       "  </thead>\n",
       "  <tbody>\n",
       "    <tr>\n",
       "      <th>0</th>\n",
       "      <td>2017-10-23</td>\n",
       "      <td>R3OQUWVA2PRCEA</td>\n",
       "      <td>Jo B.</td>\n",
       "      <td>Five Stars</td>\n",
       "      <td>Good read</td>\n",
       "      <td>5.0</td>\n",
       "    </tr>\n",
       "    <tr>\n",
       "      <th>1</th>\n",
       "      <td>2017-10-12</td>\n",
       "      <td>R1FJA1XIBRBLES</td>\n",
       "      <td>Cheryl Dulin</td>\n",
       "      <td>Four Stars</td>\n",
       "      <td>A great kicker in the beginning AND the end yo...</td>\n",
       "      <td>4.0</td>\n",
       "    </tr>\n",
       "    <tr>\n",
       "      <th>2</th>\n",
       "      <td>2017-10-12</td>\n",
       "      <td>R3CFMLYBUJ0295</td>\n",
       "      <td>Eric P Albrecht</td>\n",
       "      <td>A clear triumph of a novel!</td>\n",
       "      <td>A clear triumph of a novel. Have always loved ...</td>\n",
       "      <td>4.0</td>\n",
       "    </tr>\n",
       "    <tr>\n",
       "      <th>3</th>\n",
       "      <td>2017-10-09</td>\n",
       "      <td>R1FMT3KY928NJB</td>\n",
       "      <td>tlckirk</td>\n",
       "      <td>Disappointing</td>\n",
       "      <td>If it were any other author I would have stopp...</td>\n",
       "      <td>2.0</td>\n",
       "    </tr>\n",
       "    <tr>\n",
       "      <th>4</th>\n",
       "      <td>2017-10-07</td>\n",
       "      <td>R138WXOO423PP4</td>\n",
       "      <td>Skelsogeo</td>\n",
       "      <td>Five Stars</td>\n",
       "      <td>A great read</td>\n",
       "      <td>5.0</td>\n",
       "    </tr>\n",
       "    <tr>\n",
       "      <th>...</th>\n",
       "      <td>...</td>\n",
       "      <td>...</td>\n",
       "      <td>...</td>\n",
       "      <td>...</td>\n",
       "      <td>...</td>\n",
       "      <td>...</td>\n",
       "    </tr>\n",
       "    <tr>\n",
       "      <th>5912</th>\n",
       "      <td>2012-09-27</td>\n",
       "      <td>RT2TE0W92SL67</td>\n",
       "      <td>Tricia K.</td>\n",
       "      <td>Seriously?  $17 bucks for a computer file???  ...</td>\n",
       "      <td>Premise sounds dull as dirt.  For $17 for a co...</td>\n",
       "      <td>1.0</td>\n",
       "    </tr>\n",
       "    <tr>\n",
       "      <th>5913</th>\n",
       "      <td>2012-09-27</td>\n",
       "      <td>R14ZGYPSP9H0Y7</td>\n",
       "      <td>Pretzel</td>\n",
       "      <td>A must read</td>\n",
       "      <td>The depth of character development and storyli...</td>\n",
       "      <td>5.0</td>\n",
       "    </tr>\n",
       "    <tr>\n",
       "      <th>5914</th>\n",
       "      <td>2012-09-27</td>\n",
       "      <td>R1913ISIDAGQ1A</td>\n",
       "      <td>Prodigy</td>\n",
       "      <td>I love it</td>\n",
       "      <td>The book was great and I will love to re-read ...</td>\n",
       "      <td>5.0</td>\n",
       "    </tr>\n",
       "    <tr>\n",
       "      <th>5915</th>\n",
       "      <td>2012-09-27</td>\n",
       "      <td>R2JY771IW7RI3R</td>\n",
       "      <td>David Katz</td>\n",
       "      <td>Kendle price too expensive</td>\n",
       "      <td>I started to order the kindle edition and than...</td>\n",
       "      <td>5.0</td>\n",
       "    </tr>\n",
       "    <tr>\n",
       "      <th>5916</th>\n",
       "      <td>2012-09-27</td>\n",
       "      <td>R22B7K1DUJR6ZN</td>\n",
       "      <td>M. A. Barnett</td>\n",
       "      <td>too expensive</td>\n",
       "      <td>I would love to buy this book but it is too ex...</td>\n",
       "      <td>1.0</td>\n",
       "    </tr>\n",
       "  </tbody>\n",
       "</table>\n",
       "<p>5917 rows × 6 columns</p>\n",
       "</div>"
      ],
      "text/plain": [
       "            date              id           author  \\\n",
       "0     2017-10-23  R3OQUWVA2PRCEA            Jo B.   \n",
       "1     2017-10-12  R1FJA1XIBRBLES     Cheryl Dulin   \n",
       "2     2017-10-12  R3CFMLYBUJ0295  Eric P Albrecht   \n",
       "3     2017-10-09  R1FMT3KY928NJB          tlckirk   \n",
       "4     2017-10-07  R138WXOO423PP4        Skelsogeo   \n",
       "...          ...             ...              ...   \n",
       "5912  2012-09-27   RT2TE0W92SL67        Tricia K.   \n",
       "5913  2012-09-27  R14ZGYPSP9H0Y7          Pretzel   \n",
       "5914  2012-09-27  R1913ISIDAGQ1A          Prodigy   \n",
       "5915  2012-09-27  R2JY771IW7RI3R       David Katz   \n",
       "5916  2012-09-27  R22B7K1DUJR6ZN    M. A. Barnett   \n",
       "\n",
       "                                                  title  \\\n",
       "0                                            Five Stars   \n",
       "1                                            Four Stars   \n",
       "2                           A clear triumph of a novel!   \n",
       "3                                         Disappointing   \n",
       "4                                            Five Stars   \n",
       "...                                                 ...   \n",
       "5912  Seriously?  $17 bucks for a computer file???  ...   \n",
       "5913                                        A must read   \n",
       "5914                                          I love it   \n",
       "5915                         Kendle price too expensive   \n",
       "5916                                      too expensive   \n",
       "\n",
       "                                                   body  star_rating  \n",
       "0                                             Good read          5.0  \n",
       "1     A great kicker in the beginning AND the end yo...          4.0  \n",
       "2     A clear triumph of a novel. Have always loved ...          4.0  \n",
       "3     If it were any other author I would have stopp...          2.0  \n",
       "4                                          A great read          5.0  \n",
       "...                                                 ...          ...  \n",
       "5912  Premise sounds dull as dirt.  For $17 for a co...          1.0  \n",
       "5913  The depth of character development and storyli...          5.0  \n",
       "5914  The book was great and I will love to re-read ...          5.0  \n",
       "5915  I started to order the kindle edition and than...          5.0  \n",
       "5916  I would love to buy this book but it is too ex...          1.0  \n",
       "\n",
       "[5917 rows x 6 columns]"
      ]
     },
     "execution_count": 8,
     "metadata": {},
     "output_type": "execute_result"
    }
   ],
   "source": [
    "df"
   ]
  },
  {
   "cell_type": "code",
   "execution_count": 9,
   "metadata": {
    "collapsed": true
   },
   "outputs": [],
   "source": [
    "df.drop(['date', 'id', 'author', 'title'],\n",
    "    axis = 1,\n",
    "    inplace = True)"
   ]
  },
  {
   "cell_type": "code",
   "execution_count": 10,
   "metadata": {},
   "outputs": [
    {
     "data": {
      "text/html": [
       "<div>\n",
       "<table border=\"1\" class=\"dataframe\">\n",
       "  <thead>\n",
       "    <tr style=\"text-align: right;\">\n",
       "      <th></th>\n",
       "      <th>body</th>\n",
       "      <th>star_rating</th>\n",
       "    </tr>\n",
       "  </thead>\n",
       "  <tbody>\n",
       "    <tr>\n",
       "      <th>0</th>\n",
       "      <td>Good read</td>\n",
       "      <td>5.0</td>\n",
       "    </tr>\n",
       "    <tr>\n",
       "      <th>1</th>\n",
       "      <td>A great kicker in the beginning AND the end yo...</td>\n",
       "      <td>4.0</td>\n",
       "    </tr>\n",
       "    <tr>\n",
       "      <th>2</th>\n",
       "      <td>A clear triumph of a novel. Have always loved ...</td>\n",
       "      <td>4.0</td>\n",
       "    </tr>\n",
       "    <tr>\n",
       "      <th>3</th>\n",
       "      <td>If it were any other author I would have stopp...</td>\n",
       "      <td>2.0</td>\n",
       "    </tr>\n",
       "    <tr>\n",
       "      <th>4</th>\n",
       "      <td>A great read</td>\n",
       "      <td>5.0</td>\n",
       "    </tr>\n",
       "    <tr>\n",
       "      <th>...</th>\n",
       "      <td>...</td>\n",
       "      <td>...</td>\n",
       "    </tr>\n",
       "    <tr>\n",
       "      <th>5912</th>\n",
       "      <td>Premise sounds dull as dirt.  For $17 for a co...</td>\n",
       "      <td>1.0</td>\n",
       "    </tr>\n",
       "    <tr>\n",
       "      <th>5913</th>\n",
       "      <td>The depth of character development and storyli...</td>\n",
       "      <td>5.0</td>\n",
       "    </tr>\n",
       "    <tr>\n",
       "      <th>5914</th>\n",
       "      <td>The book was great and I will love to re-read ...</td>\n",
       "      <td>5.0</td>\n",
       "    </tr>\n",
       "    <tr>\n",
       "      <th>5915</th>\n",
       "      <td>I started to order the kindle edition and than...</td>\n",
       "      <td>5.0</td>\n",
       "    </tr>\n",
       "    <tr>\n",
       "      <th>5916</th>\n",
       "      <td>I would love to buy this book but it is too ex...</td>\n",
       "      <td>1.0</td>\n",
       "    </tr>\n",
       "  </tbody>\n",
       "</table>\n",
       "<p>5917 rows × 2 columns</p>\n",
       "</div>"
      ],
      "text/plain": [
       "                                                   body  star_rating\n",
       "0                                             Good read          5.0\n",
       "1     A great kicker in the beginning AND the end yo...          4.0\n",
       "2     A clear triumph of a novel. Have always loved ...          4.0\n",
       "3     If it were any other author I would have stopp...          2.0\n",
       "4                                          A great read          5.0\n",
       "...                                                 ...          ...\n",
       "5912  Premise sounds dull as dirt.  For $17 for a co...          1.0\n",
       "5913  The depth of character development and storyli...          5.0\n",
       "5914  The book was great and I will love to re-read ...          5.0\n",
       "5915  I started to order the kindle edition and than...          5.0\n",
       "5916  I would love to buy this book but it is too ex...          1.0\n",
       "\n",
       "[5917 rows x 2 columns]"
      ]
     },
     "execution_count": 10,
     "metadata": {},
     "output_type": "execute_result"
    }
   ],
   "source": [
    "df"
   ]
  },
  {
   "cell_type": "markdown",
   "metadata": {},
   "source": [
    "### `NaN`"
   ]
  },
  {
   "cell_type": "code",
   "execution_count": 11,
   "metadata": {},
   "outputs": [
    {
     "data": {
      "text/plain": [
       "body           3\n",
       "star_rating    0\n",
       "dtype: int64"
      ]
     },
     "execution_count": 11,
     "metadata": {},
     "output_type": "execute_result"
    }
   ],
   "source": [
    "df.isnull().sum()"
   ]
  },
  {
   "cell_type": "code",
   "execution_count": 12,
   "metadata": {
    "collapsed": true
   },
   "outputs": [],
   "source": [
    "df.dropna(inplace = True)"
   ]
  },
  {
   "cell_type": "code",
   "execution_count": 13,
   "metadata": {},
   "outputs": [
    {
     "data": {
      "text/plain": [
       "body           0\n",
       "star_rating    0\n",
       "dtype: int64"
      ]
     },
     "execution_count": 13,
     "metadata": {},
     "output_type": "execute_result"
    }
   ],
   "source": [
    "df.isnull().sum()"
   ]
  },
  {
   "cell_type": "markdown",
   "metadata": {},
   "source": [
    "### Positive, neutral, and negatives reviews"
   ]
  },
  {
   "cell_type": "code",
   "execution_count": 14,
   "metadata": {},
   "outputs": [
    {
     "data": {
      "text/plain": [
       "5.0    1548\n",
       "1.0    1206\n",
       "4.0    1203\n",
       "2.0     983\n",
       "3.0     974\n",
       "Name: star_rating, dtype: int64"
      ]
     },
     "execution_count": 14,
     "metadata": {},
     "output_type": "execute_result"
    }
   ],
   "source": [
    "df.star_rating.value_counts()"
   ]
  },
  {
   "cell_type": "code",
   "execution_count": 15,
   "metadata": {
    "collapsed": true
   },
   "outputs": [],
   "source": [
    "df['polarity'] = df.star_rating.map({1: -1, 2: -1, 3: 0, 4: 1, 5: 1})"
   ]
  },
  {
   "cell_type": "code",
   "execution_count": 16,
   "metadata": {},
   "outputs": [
    {
     "data": {
      "text/plain": [
       " 1    2751\n",
       "-1    2189\n",
       " 0     974\n",
       "Name: polarity, dtype: int64"
      ]
     },
     "execution_count": 16,
     "metadata": {},
     "output_type": "execute_result"
    }
   ],
   "source": [
    "ns = df.polarity.value_counts()\n",
    "\n",
    "ns"
   ]
  },
  {
   "cell_type": "code",
   "execution_count": 17,
   "metadata": {},
   "outputs": [
    {
     "data": {
      "text/plain": [
       "974"
      ]
     },
     "execution_count": 17,
     "metadata": {},
     "output_type": "execute_result"
    }
   ],
   "source": [
    "ns.min()"
   ]
  },
  {
   "cell_type": "code",
   "execution_count": 18,
   "metadata": {
    "collapsed": true
   },
   "outputs": [],
   "source": [
    "for polarity in [-1, 0, 1]:\n",
    "    n = ns[polarity] - ns.min()\n",
    "    index = df[df.polarity == polarity].sample(n = n, random_state = 0).index\n",
    "    df.drop(index, inplace = True)"
   ]
  },
  {
   "cell_type": "code",
   "execution_count": 19,
   "metadata": {},
   "outputs": [
    {
     "data": {
      "text/plain": [
       " 1    974\n",
       "-1    974\n",
       " 0    974\n",
       "Name: polarity, dtype: int64"
      ]
     },
     "execution_count": 19,
     "metadata": {},
     "output_type": "execute_result"
    }
   ],
   "source": [
    "df.polarity.value_counts()"
   ]
  },
  {
   "cell_type": "markdown",
   "metadata": {},
   "source": [
    "### Feature matrix and response vector"
   ]
  },
  {
   "cell_type": "code",
   "execution_count": 20,
   "metadata": {
    "collapsed": true
   },
   "outputs": [],
   "source": [
    "X = df.body\n",
    "c = df.polarity"
   ]
  },
  {
   "cell_type": "code",
   "execution_count": 21,
   "metadata": {},
   "outputs": [
    {
     "data": {
      "text/plain": [
       "0                                               Good read\n",
       "3       If it were any other author I would have stopp...\n",
       "4                                            A great read\n",
       "6       5 Stars for writing 2 Stars for storytelling--...\n",
       "11      I get it, J.K. Rowling wanted to do something ...\n",
       "                              ...                        \n",
       "5889    Okay, so I haven't read the whole book.  Just ...\n",
       "5891    J.K. Rowling is best known for her Harry Potte...\n",
       "5897    Just to set the record straight on Casual Vaca...\n",
       "5908    This book shows a realistic, slightly cynical,...\n",
       "5913    The depth of character development and storyli...\n",
       "Name: body, dtype: object"
      ]
     },
     "execution_count": 21,
     "metadata": {},
     "output_type": "execute_result"
    }
   ],
   "source": [
    "X"
   ]
  },
  {
   "cell_type": "code",
   "execution_count": 22,
   "metadata": {},
   "outputs": [
    {
     "data": {
      "text/plain": [
       "0       1\n",
       "3      -1\n",
       "4       1\n",
       "6       0\n",
       "11     -1\n",
       "       ..\n",
       "5889   -1\n",
       "5891    1\n",
       "5897    0\n",
       "5908    1\n",
       "5913    1\n",
       "Name: polarity, dtype: int64"
      ]
     },
     "execution_count": 22,
     "metadata": {},
     "output_type": "execute_result"
    }
   ],
   "source": [
    "c"
   ]
  },
  {
   "cell_type": "markdown",
   "metadata": {},
   "source": [
    "### Train/test sets"
   ]
  },
  {
   "cell_type": "code",
   "execution_count": 23,
   "metadata": {
    "collapsed": true
   },
   "outputs": [],
   "source": [
    "train_X, test_X, train_c, test_c = model_selection.train_test_split(X, c, stratify = c, train_size = .6, random_state = 0)"
   ]
  },
  {
   "cell_type": "code",
   "execution_count": 24,
   "metadata": {},
   "outputs": [
    {
     "data": {
      "text/plain": [
       " 1    585\n",
       " 0    584\n",
       "-1    584\n",
       "Name: polarity, dtype: int64"
      ]
     },
     "execution_count": 24,
     "metadata": {},
     "output_type": "execute_result"
    }
   ],
   "source": [
    "train_c.value_counts()"
   ]
  },
  {
   "cell_type": "code",
   "execution_count": 25,
   "metadata": {},
   "outputs": [
    {
     "data": {
      "text/plain": [
       " 0    390\n",
       "-1    390\n",
       " 1    389\n",
       "Name: polarity, dtype: int64"
      ]
     },
     "execution_count": 25,
     "metadata": {},
     "output_type": "execute_result"
    }
   ],
   "source": [
    "test_c.value_counts()"
   ]
  },
  {
   "cell_type": "markdown",
   "metadata": {},
   "source": [
    "### TF-IDF and `TfidfVectorizer`"
   ]
  },
  {
   "cell_type": "code",
   "execution_count": 26,
   "metadata": {
    "collapsed": true
   },
   "outputs": [],
   "source": [
    "'''\n",
    "vectorizer = feature_extraction.text.TfidfVectorizer(stop_words = 'english')\n",
    "'''\n",
    "\n",
    "class CustomTokenizer(object):\n",
    "    def __call__(self, document):\n",
    "        tokens = tokenize_text(document)\n",
    "        tokens = Stemmer.stem_tokens(tokens)\n",
    "        return tokens\n",
    "\n",
    "vectorizer = feature_extraction.text.TfidfVectorizer(tokenizer = CustomTokenizer(), ngram_range = (1, 3), min_df = 3)"
   ]
  },
  {
   "cell_type": "code",
   "execution_count": 27,
   "metadata": {},
   "outputs": [],
   "source": [
    "vectorizer.fit(train_X)"
   ]
  },
  {
   "cell_type": "markdown",
   "metadata": {},
   "source": [
    "### Bag-of-words"
   ]
  },
  {
   "cell_type": "code",
   "execution_count": 28,
   "metadata": {},
   "outputs": [
    {
     "data": {
      "text/plain": [
       "[u'1',\n",
       " u'10',\n",
       " u'10 book',\n",
       " u'100',\n",
       " u'100 page',\n",
       " u'12',\n",
       " u'13',\n",
       " u'14',\n",
       " u'15',\n",
       " u'16',\n",
       " u'17',\n",
       " u'1799',\n",
       " u'18',\n",
       " u'2',\n",
       " u'20',\n",
       " u'200',\n",
       " u'25',\n",
       " u'3',\n",
       " u'3 day',\n",
       " u'3 star',\n",
       " u'30',\n",
       " u'34',\n",
       " u'34 way',\n",
       " u'35',\n",
       " u'3rd',\n",
       " u'4',\n",
       " u'4 star',\n",
       " u'40',\n",
       " u'400',\n",
       " u'400 page',\n",
       " u'5',\n",
       " u'5 star',\n",
       " u'50',\n",
       " u'50 page',\n",
       " u'500',\n",
       " u'500 page',\n",
       " u'6',\n",
       " u'60',\n",
       " u'7',\n",
       " u'70',\n",
       " u'8',\n",
       " u'80',\n",
       " u'abandon',\n",
       " u'abil',\n",
       " u'abil creat',\n",
       " u'abil write',\n",
       " u'abl',\n",
       " u'abl finish',\n",
       " u'abl get',\n",
       " u'abl keep',\n",
       " u'abrupt',\n",
       " u'abruptli',\n",
       " u'absenc',\n",
       " u'absolut',\n",
       " u'absolut fascin',\n",
       " u'absolut love',\n",
       " u'absorb',\n",
       " u'abund',\n",
       " u'abus',\n",
       " u'accent',\n",
       " u'accept',\n",
       " u'accomplish',\n",
       " u'account',\n",
       " u'accur',\n",
       " u'acquaint',\n",
       " u'across',\n",
       " u'act',\n",
       " u'action',\n",
       " u'activ',\n",
       " u'actual',\n",
       " u'actual enjoy',\n",
       " u'ad',\n",
       " u'add',\n",
       " u'addict',\n",
       " u'addit',\n",
       " u'address',\n",
       " u'adject',\n",
       " u'adjust',\n",
       " u'admir',\n",
       " u'admir j',\n",
       " u'admir j k',\n",
       " u'admit',\n",
       " u'adolesc',\n",
       " u'ador',\n",
       " u'ador harri',\n",
       " u'ador harri potter',\n",
       " u'adult',\n",
       " u'adult audienc',\n",
       " u'adult book',\n",
       " u'adult charact',\n",
       " u'adult fiction',\n",
       " u'adult first',\n",
       " u'adult like',\n",
       " u'adult literatur',\n",
       " u'adult novel',\n",
       " u'adult novel jk',\n",
       " u'adult nt',\n",
       " u'adult one',\n",
       " u'adult read',\n",
       " u'adult theme',\n",
       " u'adventur',\n",
       " u'affair',\n",
       " u'affect',\n",
       " u'afraid',\n",
       " u'age',\n",
       " u'ago',\n",
       " u'ago still',\n",
       " u'agre',\n",
       " u'ahead',\n",
       " u'aim',\n",
       " u'air',\n",
       " u'ala',\n",
       " u'albeit',\n",
       " u'alert',\n",
       " u'aliv',\n",
       " u'allow',\n",
       " u'almost',\n",
       " u'almost nt',\n",
       " u'alon',\n",
       " u'along',\n",
       " u'alot',\n",
       " u'alreadi',\n",
       " u'also',\n",
       " u'also nt',\n",
       " u'also think',\n",
       " u'altern',\n",
       " u'although',\n",
       " u'although well',\n",
       " u'altogeth',\n",
       " u'alway',\n",
       " u'amateurish',\n",
       " u'amaz',\n",
       " u'amaz author',\n",
       " u'amaz stori',\n",
       " u'amaz writer',\n",
       " u'amazingli',\n",
       " u'amazon',\n",
       " u'amazon review',\n",
       " u'ambit',\n",
       " u'america',\n",
       " u'american',\n",
       " u'american reader',\n",
       " u'among',\n",
       " u'amongst',\n",
       " u'amount',\n",
       " u'amus',\n",
       " u'andor',\n",
       " u'andrew',\n",
       " u'anger',\n",
       " u'angri',\n",
       " u'angst',\n",
       " u'annoy',\n",
       " u'anoth',\n",
       " u'anoth adult',\n",
       " u'anoth adult novel',\n",
       " u'anoth book',\n",
       " u'anoth good',\n",
       " u'anoth harri',\n",
       " u'anoth harri potter',\n",
       " u'anoth one',\n",
       " u'anoth tri',\n",
       " u'antagonist',\n",
       " u'anticip',\n",
       " u'anxiou',\n",
       " u'anxious',\n",
       " u'anybodi',\n",
       " u'anymor',\n",
       " u'anyon',\n",
       " u'anyon els',\n",
       " u'anyth',\n",
       " u'anyth book',\n",
       " u'anyth els',\n",
       " u'anyth jk',\n",
       " u'anyth jk rowl',\n",
       " u'anyth like',\n",
       " u'anyth like harri',\n",
       " u'anyway',\n",
       " u'anywher',\n",
       " u'apart',\n",
       " u'appal',\n",
       " u'appar',\n",
       " u'appeal',\n",
       " u'appear',\n",
       " u'appreci',\n",
       " u'approach',\n",
       " u'approach book',\n",
       " u'appropri',\n",
       " u'area',\n",
       " u'around',\n",
       " u'around us',\n",
       " u'arriv',\n",
       " u'art',\n",
       " u'asid',\n",
       " u'ask',\n",
       " u'asleep',\n",
       " u'aspect',\n",
       " u'assault',\n",
       " u'assum',\n",
       " u'assur',\n",
       " u'astound',\n",
       " u'attach',\n",
       " u'attack',\n",
       " u'attempt',\n",
       " u'attempt adult',\n",
       " u'attempt write',\n",
       " u'attent',\n",
       " u'attent book',\n",
       " u'attitud',\n",
       " u'attract',\n",
       " u'audienc',\n",
       " u'audio',\n",
       " u'audio book',\n",
       " u'audio version',\n",
       " u'audiobook',\n",
       " u'austen',\n",
       " u'authent',\n",
       " u'author',\n",
       " u'author amaz',\n",
       " u'author book',\n",
       " u'author develop',\n",
       " u'author develop charact',\n",
       " u'author harri',\n",
       " u'author harri potter',\n",
       " u'author jk',\n",
       " u'author jk rowl',\n",
       " u'author nt',\n",
       " u'author read',\n",
       " u'author realli',\n",
       " u'author seem',\n",
       " u'author tri',\n",
       " u'author would',\n",
       " u'author write',\n",
       " u'avail',\n",
       " u'averag',\n",
       " u'avid',\n",
       " u'avid reader',\n",
       " u'avoid',\n",
       " u'aw',\n",
       " u'aw book',\n",
       " u'awar',\n",
       " u'away',\n",
       " u'awe',\n",
       " u'awesom',\n",
       " u'awhil',\n",
       " u'awhil get',\n",
       " u'back',\n",
       " u'back book',\n",
       " u'back finish',\n",
       " u'back forth',\n",
       " u'back forth charact',\n",
       " u'back read',\n",
       " u'back write',\n",
       " u'background',\n",
       " u'bad',\n",
       " u'bad book',\n",
       " u'bad languag',\n",
       " u'bad novel',\n",
       " u'bad peopl',\n",
       " u'bad review',\n",
       " u'bad thing',\n",
       " u'badli',\n",
       " u'badli written',\n",
       " u'balanc',\n",
       " u'ball',\n",
       " u'banal',\n",
       " u'bare',\n",
       " u'barri',\n",
       " u'barri fairbroth',\n",
       " u'barri fairweath',\n",
       " u'base',\n",
       " u'basi',\n",
       " u'basic',\n",
       " u'battl',\n",
       " u'be',\n",
       " u'bear',\n",
       " u'beat',\n",
       " u'beauti',\n",
       " u'beauti written',\n",
       " u'becam',\n",
       " u'becom',\n",
       " u'becom interest',\n",
       " u'began',\n",
       " u'began read',\n",
       " u'begin',\n",
       " u'begin book',\n",
       " u'behav',\n",
       " u'behavior',\n",
       " u'behind',\n",
       " u'behind close',\n",
       " u'behind close door',\n",
       " u'belief',\n",
       " u'believ',\n",
       " u'believ author',\n",
       " u'believ book',\n",
       " u'belong',\n",
       " u'belov',\n",
       " u'best',\n",
       " u'best book',\n",
       " u'best book read',\n",
       " u'best part',\n",
       " u'best seller',\n",
       " u'best seller list',\n",
       " u'betray',\n",
       " u'better',\n",
       " u'better book',\n",
       " u'better never',\n",
       " u'bewar',\n",
       " u'beyond',\n",
       " u'bias',\n",
       " u'big',\n",
       " u'big disappoint',\n",
       " u'big fan',\n",
       " u'biggest',\n",
       " u'birthday',\n",
       " u'bit',\n",
       " u'bit bore',\n",
       " u'bit dark',\n",
       " u'bit disappoint',\n",
       " u'bit forc',\n",
       " u'bit get',\n",
       " u'bit hard',\n",
       " u'bit like',\n",
       " u'bit long',\n",
       " u'bit slow',\n",
       " u'bit tediou',\n",
       " u'bite',\n",
       " u'bitter',\n",
       " u'black',\n",
       " u'black comedi',\n",
       " u'blame',\n",
       " u'bland',\n",
       " u'bleak',\n",
       " u'blend',\n",
       " u'bless',\n",
       " u'blockbust',\n",
       " u'board',\n",
       " u'bog',\n",
       " u'bone',\n",
       " u'book',\n",
       " u'book absolut',\n",
       " u'book adult',\n",
       " u'book adult read',\n",
       " u'book also',\n",
       " u'book although',\n",
       " u'book amaz',\n",
       " u'book anoth',\n",
       " u'book anyon',\n",
       " u'book anyth',\n",
       " u'book anyth like',\n",
       " u'book author',\n",
       " u'book aw',\n",
       " u'book base',\n",
       " u'book becom',\n",
       " u'book begin',\n",
       " u'book best',\n",
       " u'book better',\n",
       " u'book big',\n",
       " u'book bit',\n",
       " u'book book',\n",
       " u'book book club',\n",
       " u'book bore',\n",
       " u'book bought',\n",
       " u'book brilliant',\n",
       " u'book buy',\n",
       " u'book ca',\n",
       " u'book ca nt',\n",
       " u'book came',\n",
       " u'book casual',\n",
       " u'book casual vacanc',\n",
       " u'book charact',\n",
       " u'book club',\n",
       " u'book club read',\n",
       " u'book club select',\n",
       " u'book come',\n",
       " u'book complet',\n",
       " u'book contain',\n",
       " u'book could',\n",
       " u'book could get',\n",
       " u'book could nt',\n",
       " u'book could put',\n",
       " u'book dark',\n",
       " u'book day',\n",
       " u'book definit',\n",
       " u'book depress',\n",
       " u'book differ',\n",
       " u'book difficult',\n",
       " u'book disappoint',\n",
       " u'book drag',\n",
       " u'book end',\n",
       " u'book enjoy',\n",
       " u'book entertain',\n",
       " u'book especi',\n",
       " u'book even',\n",
       " u'book ever',\n",
       " u'book ever read',\n",
       " u'book everi',\n",
       " u'book everyon',\n",
       " u'book excel',\n",
       " u'book except',\n",
       " u'book excit',\n",
       " u'book expect',\n",
       " u'book expect harri',\n",
       " u'book extrem',\n",
       " u'book fact',\n",
       " u'book far',\n",
       " u'book feel',\n",
       " u'book felt',\n",
       " u'book felt like',\n",
       " u'book fill',\n",
       " u'book find',\n",
       " u'book finish',\n",
       " u'book first',\n",
       " u'book found',\n",
       " u'book full',\n",
       " u'book gave',\n",
       " u'book get',\n",
       " u'book gift',\n",
       " u'book give',\n",
       " u'book glad',\n",
       " u'book go',\n",
       " u'book good',\n",
       " u'book got',\n",
       " u'book great',\n",
       " u'book half',\n",
       " u'book happen',\n",
       " u'book hard',\n",
       " u'book hard get',\n",
       " u'book hard put',\n",
       " u'book harri',\n",
       " u'book harri potter',\n",
       " u'book hate',\n",
       " u'book highli',\n",
       " u'book hold',\n",
       " u'book hope',\n",
       " u'book howev',\n",
       " u'book hp',\n",
       " u'book hp fan',\n",
       " u'book huge',\n",
       " u'book hype',\n",
       " u'book instead',\n",
       " u'book interest',\n",
       " u'book jk',\n",
       " u'book jk rowl',\n",
       " u'book keep',\n",
       " u'book kept',\n",
       " u'book kind',\n",
       " u'book kindl',\n",
       " u'book know',\n",
       " u'book leav',\n",
       " u'book left',\n",
       " u'book librari',\n",
       " u'book life',\n",
       " u'book like',\n",
       " u'book littl',\n",
       " u'book local',\n",
       " u'book long',\n",
       " u'book look',\n",
       " u'book look forward',\n",
       " u'book lot',\n",
       " u'book lot charact',\n",
       " u'book love',\n",
       " u'book love harri',\n",
       " u'book made',\n",
       " u'book mainli',\n",
       " u'book make',\n",
       " u'book mani',\n",
       " u'book mani charact',\n",
       " u'book matter',\n",
       " u'book may',\n",
       " u'book mayb',\n",
       " u'book mean',\n",
       " u'book month',\n",
       " u'book mostli',\n",
       " u'book movi',\n",
       " u'book much',\n",
       " u'book never',\n",
       " u'book none',\n",
       " u'book noth',\n",
       " u'book noth like',\n",
       " u'book nt',\n",
       " u'book nt get',\n",
       " u'book nt grab',\n",
       " u'book nt like',\n",
       " u'book often',\n",
       " u'book ok',\n",
       " u'book okay',\n",
       " u'book one',\n",
       " u'book other',\n",
       " u'book overal',\n",
       " u'book peopl',\n",
       " u'book perhap',\n",
       " u'book person',\n",
       " u'book plot',\n",
       " u'book polit',\n",
       " u'book probabl',\n",
       " u'book purchas',\n",
       " u'book put',\n",
       " u'book quit',\n",
       " u'book rather',\n",
       " u'book read',\n",
       " u'book read harri',\n",
       " u'book read like',\n",
       " u'book real',\n",
       " u'book realist',\n",
       " u'book realli',\n",
       " u'book recommend',\n",
       " u'book rowl',\n",
       " u'book sadli',\n",
       " u'book say',\n",
       " u'book seem',\n",
       " u'book seen',\n",
       " u'book seri',\n",
       " u'book set',\n",
       " u'book sinc',\n",
       " u'book slow',\n",
       " u'book slow start',\n",
       " u'book soon',\n",
       " u'book start',\n",
       " u'book start finish',\n",
       " u'book start read',\n",
       " u'book start slow',\n",
       " u'book stay',\n",
       " u'book still',\n",
       " u'book stori',\n",
       " u'book sure',\n",
       " u'book take',\n",
       " u'book tediou',\n",
       " u'book think',\n",
       " u'book though',\n",
       " u'book thought',\n",
       " u'book time',\n",
       " u'book told',\n",
       " u'book took',\n",
       " u'book took long',\n",
       " u'book total',\n",
       " u'book town',\n",
       " u'book tri',\n",
       " u'book truli',\n",
       " u'book unfortun',\n",
       " u'book use',\n",
       " u'book wait',\n",
       " u'book want',\n",
       " u'book way',\n",
       " u'book week',\n",
       " u'book well',\n",
       " u'book well written',\n",
       " u'book went',\n",
       " u'book whole',\n",
       " u'book without',\n",
       " u'book worth',\n",
       " u'book would',\n",
       " u'book would recommend',\n",
       " u'book write',\n",
       " u'book written',\n",
       " u'book written adult',\n",
       " u'book written jk',\n",
       " u'book wrote',\n",
       " u'book ye',\n",
       " u'book yet',\n",
       " u'bore',\n",
       " u'bore bore',\n",
       " u'bore bore bore',\n",
       " u'bore charact',\n",
       " u'bore nt',\n",
       " u'bore stori',\n",
       " u'bother',\n",
       " u'bought',\n",
       " u'bought book',\n",
       " u'bought kindl',\n",
       " u'boy',\n",
       " u'boy wrong',\n",
       " u'branch',\n",
       " u'break',\n",
       " u'brillianc',\n",
       " u'brilliant',\n",
       " u'brilliant writer',\n",
       " u'brilliantli',\n",
       " u'bring',\n",
       " u'brit',\n",
       " u'britain',\n",
       " u'british',\n",
       " u'british life',\n",
       " u'british villag',\n",
       " u'brother',\n",
       " u'brought',\n",
       " u'brought us',\n",
       " u'brought us harri',\n",
       " u'brutal',\n",
       " u'build',\n",
       " u'bulli',\n",
       " u'bunch',\n",
       " u'busi',\n",
       " u'buy',\n",
       " u'buy anoth',\n",
       " u'buy book',\n",
       " u'buy read',\n",
       " u'ca',\n",
       " u'ca nt',\n",
       " u'ca nt believ',\n",
       " u'ca nt even',\n",
       " u'ca nt get',\n",
       " u'ca nt help',\n",
       " u'ca nt imagin',\n",
       " u'ca nt put',\n",
       " u'ca nt rememb',\n",
       " u'ca nt say',\n",
       " u'ca nt wait',\n",
       " u'call',\n",
       " u'call book',\n",
       " u'came',\n",
       " u'came togeth',\n",
       " u'candid',\n",
       " u'cant',\n",
       " u'capabl',\n",
       " u'captiv',\n",
       " u'captur',\n",
       " u'car',\n",
       " u'cardboard',\n",
       " u'care',\n",
       " u'care book',\n",
       " u'care charact',\n",
       " u'care happen',\n",
       " u'care less',\n",
       " u'care much',\n",
       " u'care stori',\n",
       " u'career',\n",
       " u'carri',\n",
       " u'cartoon',\n",
       " u'cartoon charact',\n",
       " u'case',\n",
       " u'cast',\n",
       " u'cast charact',\n",
       " u'casual',\n",
       " u'casual read',\n",
       " u'casual vacanc',\n",
       " u'casual vacanc first',\n",
       " u'casual vacanc found',\n",
       " u'casual vacanc jk',\n",
       " u'casual vacanc nt',\n",
       " u'casual vacanc realli',\n",
       " u'casual vacanc rowl',\n",
       " u'casual vacanc stori',\n",
       " u'casual vacanc well',\n",
       " u'caught',\n",
       " u'caus',\n",
       " u'cd',\n",
       " u'center',\n",
       " u'central',\n",
       " u'central charact',\n",
       " u'certain',\n",
       " u'certainli',\n",
       " u'certainli nt',\n",
       " u'challeng',\n",
       " u'chanc',\n",
       " u'chanc read',\n",
       " u'chang',\n",
       " u'chang mind',\n",
       " u'chang pace',\n",
       " u'chapter',\n",
       " u'chapter book',\n",
       " u'charact',\n",
       " u'charact almost',\n",
       " u'charact becom',\n",
       " u'charact begin',\n",
       " u'charact believ',\n",
       " u'charact bit',\n",
       " u'charact book',\n",
       " u'charact bore',\n",
       " u'charact ca',\n",
       " u'charact ca nt',\n",
       " u'charact care',\n",
       " u'charact charact',\n",
       " u'charact clearli',\n",
       " u'charact clearli defin',\n",
       " u'charact compel',\n",
       " u'charact confus',\n",
       " u'charact could',\n",
       " u'charact deepli',\n",
       " u'charact depth',\n",
       " u'charact descript',\n",
       " u'charact develop',\n",
       " u'charact die',\n",
       " u'charact difficult',\n",
       " u'charact difficult keep',\n",
       " u'charact dull',\n",
       " u'charact end',\n",
       " u'charact even',\n",
       " u'charact event',\n",
       " u'charact feel',\n",
       " u'charact first',\n",
       " u'charact flaw',\n",
       " u'charact found',\n",
       " u'charact fulli',\n",
       " u'charact get',\n",
       " u'charact good',\n",
       " u'charact great',\n",
       " u'charact hard',\n",
       " u'charact hate',\n",
       " u'charact howev',\n",
       " u'charact incred',\n",
       " u'charact interact',\n",
       " u'charact interest',\n",
       " u'charact intertwin',\n",
       " u'charact introduc',\n",
       " u'charact keep',\n",
       " u'charact keep track',\n",
       " u'charact likabl',\n",
       " u'charact like',\n",
       " u'charact likeabl',\n",
       " u'charact list',\n",
       " u'charact live',\n",
       " u'charact lot',\n",
       " u'charact love',\n",
       " u'charact made',\n",
       " u'charact make',\n",
       " u'charact mani',\n",
       " u'charact may',\n",
       " u'charact much',\n",
       " u'charact name',\n",
       " u'charact neg',\n",
       " u'charact never',\n",
       " u'charact none',\n",
       " u'charact nt',\n",
       " u'charact nt interest',\n",
       " u'charact one',\n",
       " u'charact peopl',\n",
       " u'charact plot',\n",
       " u'charact predict',\n",
       " u'charact present',\n",
       " u'charact pretti',\n",
       " u'charact put',\n",
       " u'charact read',\n",
       " u'charact reader',\n",
       " u'charact real',\n",
       " u'charact realli',\n",
       " u'charact redeem',\n",
       " u'charact redeem qualiti',\n",
       " u'charact relationship',\n",
       " u'charact rowl',\n",
       " u'charact sad',\n",
       " u'charact seem',\n",
       " u'charact set',\n",
       " u'charact situat',\n",
       " u'charact sometim',\n",
       " u'charact stori',\n",
       " u'charact stori line',\n",
       " u'charact straight',\n",
       " u'charact studi',\n",
       " u'charact take',\n",
       " u'charact though',\n",
       " u'charact time',\n",
       " u'charact took',\n",
       " u'charact tri',\n",
       " u'charact tri keep',\n",
       " u'charact ultim',\n",
       " u'charact unlik',\n",
       " u'charact well',\n",
       " u'charact well develop',\n",
       " u'charact well drawn',\n",
       " u'charact whose',\n",
       " u'charact would',\n",
       " u'character',\n",
       " u'characterdriven',\n",
       " u'characterist',\n",
       " u'charg',\n",
       " u'charm',\n",
       " u'chart',\n",
       " u'cheat',\n",
       " u'check',\n",
       " u'check book',\n",
       " u'cheer',\n",
       " u'child',\n",
       " u'childish',\n",
       " u'children',\n",
       " u'children book',\n",
       " u'children fantasi',\n",
       " u'children stori',\n",
       " u'choic',\n",
       " u'choos',\n",
       " u'chose',\n",
       " u'chose book',\n",
       " u'chosen',\n",
       " u'christma',\n",
       " u'circl',\n",
       " u'circl friend',\n",
       " u'circumst',\n",
       " u'citi',\n",
       " u'citizen',\n",
       " u'citizen pagford',\n",
       " u'claim',\n",
       " u'class',\n",
       " u'classic',\n",
       " u'clear',\n",
       " u'clearli',\n",
       " u'clearli defin',\n",
       " u'clever',\n",
       " u'clich',\n",
       " u'climax',\n",
       " u'clinic',\n",
       " u'close',\n",
       " u'close door',\n",
       " u'closer',\n",
       " u'club',\n",
       " u'club read',\n",
       " u'club select',\n",
       " u'coars',\n",
       " u'cold',\n",
       " u'collect',\n",
       " u'color',\n",
       " u'come',\n",
       " u'come book',\n",
       " u'come close',\n",
       " u'come togeth',\n",
       " u'comedi',\n",
       " u'comfort',\n",
       " u'command',\n",
       " u'comment',\n",
       " u'commentari',\n",
       " u'commit',\n",
       " u'common',\n",
       " u'commun',\n",
       " u'commun pagford',\n",
       " u'compar',\n",
       " u'compar harri',\n",
       " u'compar harri potter',\n",
       " u'comparison',\n",
       " u'compass',\n",
       " u'compel',\n",
       " u'compel stori',\n",
       " u'complain',\n",
       " u'complaint',\n",
       " u'complet',\n",
       " u'complet differ',\n",
       " u'complet differ harri',\n",
       " u'complex',\n",
       " u'complex charact',\n",
       " u'complex plot',\n",
       " u'complex stori',\n",
       " u'complic',\n",
       " u'comprehend',\n",
       " u'conceiv',\n",
       " u'concentr',\n",
       " u'concept',\n",
       " u'concern',\n",
       " u'conclud',\n",
       " u'conclus',\n",
       " u'condit',\n",
       " u'confid',\n",
       " u'conflict',\n",
       " u'confront',\n",
       " u'confus',\n",
       " u'confus begin',\n",
       " u'connect',\n",
       " u'connect charact',\n",
       " u'connect one',\n",
       " u'consciou',\n",
       " u'consequ',\n",
       " u'consid',\n",
       " u'consist',\n",
       " u'constant',\n",
       " u'constantli',\n",
       " u'contain',\n",
       " u'contemporari',\n",
       " u'content',\n",
       " u'continu',\n",
       " u'continu read',\n",
       " u'continu read book',\n",
       " u'continu read hope',\n",
       " u'contrast',\n",
       " u'contriv',\n",
       " u'convers',\n",
       " u'convey',\n",
       " u'convinc',\n",
       " u'copi',\n",
       " u'cormoran',\n",
       " u'cormoran strike',\n",
       " u'correct',\n",
       " u'cost',\n",
       " u'could',\n",
       " u'could bare',\n",
       " u'could care',\n",
       " u'could done',\n",
       " u'could enjoy',\n",
       " u'could even',\n",
       " u'could find',\n",
       " u'could finish',\n",
       " u'could get',\n",
       " u'could get past',\n",
       " u'could give',\n",
       " u'could go',\n",
       " u'could hardli',\n",
       " u'could never',\n",
       " u'could nt',\n",
       " u'could nt even',\n",
       " u'could nt finish',\n",
       " u'could nt get',\n",
       " u'could nt put',\n",
       " u'could nt stand',\n",
       " u'could nt wait',\n",
       " u'could put',\n",
       " u'could put book',\n",
       " u'could read',\n",
       " u'could relat',\n",
       " u'could see',\n",
       " u'could write',\n",
       " u'could write adult',\n",
       " u'couldnt',\n",
       " u'council',\n",
       " u'council elect',\n",
       " u'council member',\n",
       " u'council member barri',\n",
       " u'council seat',\n",
       " u'councilman',\n",
       " u'countri',\n",
       " u'coupl',\n",
       " u'coupl chapter',\n",
       " u'coupl hundr',\n",
       " u'coupl hundr page',\n",
       " u'coupl page',\n",
       " u'courag',\n",
       " u'cours',\n",
       " u'cover',\n",
       " u'craft',\n",
       " u'crappi',\n",
       " u'crass',\n",
       " u'crazi',\n",
       " u'creat',\n",
       " u'creat charact',\n",
       " u'creat world',\n",
       " u'creativ',\n",
       " u'credit',\n",
       " u'cri',\n",
       " u'cri end',\n",
       " u'cri harri',\n",
       " u'cri harri potter',\n",
       " u'critic',\n",
       " u'crude',\n",
       " u'cruel',\n",
       " u'cruelti',\n",
       " u'cuckoo',\n",
       " u'cuckoo call',\n",
       " u'cultur',\n",
       " u'cup',\n",
       " u'cup tea',\n",
       " u'curios',\n",
       " u'curiou',\n",
       " u'curiou see',\n",
       " u'curiou see ms',\n",
       " u'current',\n",
       " u'curs',\n",
       " u'cuss',\n",
       " u'cut',\n",
       " u'cv',\n",
       " u'cynic',\n",
       " u'daili',\n",
       " u'daili life',\n",
       " u'damag',\n",
       " u'damn',\n",
       " u'dare',\n",
       " u'dare say',\n",
       " u'dark',\n",
       " u'dark depress',\n",
       " u'dark world',\n",
       " u'darker',\n",
       " u'darker side',\n",
       " u'date',\n",
       " u'daughter',\n",
       " u'day',\n",
       " u'day finish',\n",
       " u'dazzl',\n",
       " u'dead',\n",
       " u'dead guy',\n",
       " u'deal',\n",
       " u'death',\n",
       " u'death barri',\n",
       " u'death man',\n",
       " u'death one',\n",
       " u'debat',\n",
       " u'debut',\n",
       " u'decent',\n",
       " u'decid',\n",
       " u'deep',\n",
       " u'deeper',\n",
       " u'deepli',\n",
       " u'defi',\n",
       " u'defin',\n",
       " u'definit',\n",
       " u'definit recommend',\n",
       " u'deft',\n",
       " u'deftli',\n",
       " u'degre',\n",
       " u'deliber',\n",
       " u'delight',\n",
       " u'deliv',\n",
       " u'deliv good',\n",
       " u'delv',\n",
       " u'demonstr',\n",
       " u'deni',\n",
       " u'denouement',\n",
       " u'departur',\n",
       " ...]"
      ]
     },
     "execution_count": 28,
     "metadata": {},
     "output_type": "execute_result"
    }
   ],
   "source": [
    "vectorizer.get_feature_names()"
   ]
  },
  {
   "cell_type": "markdown",
   "metadata": {},
   "source": [
    "### Transformed feature matrix `X`"
   ]
  },
  {
   "cell_type": "code",
   "execution_count": 29,
   "metadata": {
    "collapsed": true
   },
   "outputs": [],
   "source": [
    "train_X = vectorizer.transform(train_X)\n",
    "test_X = vectorizer.transform(test_X)"
   ]
  },
  {
   "cell_type": "code",
   "execution_count": 30,
   "metadata": {},
   "outputs": [
    {
     "data": {
      "text/plain": [
       "<1753x4411 sparse matrix of type '<type 'numpy.float64'>'\n",
       "\twith 58694 stored elements in Compressed Sparse Row format>"
      ]
     },
     "execution_count": 30,
     "metadata": {},
     "output_type": "execute_result"
    }
   ],
   "source": [
    "train_X"
   ]
  },
  {
   "cell_type": "markdown",
   "metadata": {},
   "source": [
    "While dense matrices store every entry in the matrix, sparse matrices only store the nonzero entries.  Sparse matrices don't have a lot of extra features, and some algorithms may not work for them so you use them when you need to work with matrices that would be too big for the computer to handle them, but they are mostly zero, so they compress easily.  You can convert from sparse matrices to dense matrices with `.todense()`"
   ]
  },
  {
   "cell_type": "code",
   "execution_count": 31,
   "metadata": {},
   "outputs": [
    {
     "data": {
      "text/plain": [
       "matrix([[ 0.,  0.,  0., ...,  0.,  0.,  0.],\n",
       "        [ 0.,  0.,  0., ...,  0.,  0.,  0.],\n",
       "        [ 0.,  0.,  0., ...,  0.,  0.,  0.],\n",
       "        ..., \n",
       "        [ 0.,  0.,  0., ...,  0.,  0.,  0.],\n",
       "        [ 0.,  0.,  0., ...,  0.,  0.,  0.],\n",
       "        [ 0.,  0.,  0., ...,  0.,  0.,  0.]])"
      ]
     },
     "execution_count": 31,
     "metadata": {},
     "output_type": "execute_result"
    }
   ],
   "source": [
    "train_X.todense()"
   ]
  },
  {
   "cell_type": "markdown",
   "metadata": {},
   "source": [
    "### Machine Learning Modeling"
   ]
  },
  {
   "cell_type": "markdown",
   "metadata": {},
   "source": [
    "#### Logistic Regression"
   ]
  },
  {
   "cell_type": "code",
   "execution_count": 32,
   "metadata": {
    "collapsed": true
   },
   "outputs": [],
   "source": [
    "model = linear_model.LogisticRegression()"
   ]
  },
  {
   "cell_type": "code",
   "execution_count": 33,
   "metadata": {},
   "outputs": [
    {
     "data": {
      "text/plain": [
       "0.62180425962660912"
      ]
     },
     "execution_count": 33,
     "metadata": {},
     "output_type": "execute_result"
    }
   ],
   "source": [
    "model_selection.cross_val_score(model, train_X, train_c, cv = 5).mean()"
   ]
  },
  {
   "cell_type": "code",
   "execution_count": 34,
   "metadata": {},
   "outputs": [
    {
     "data": {
      "text/plain": [
       "0.62179121505989732"
      ]
     },
     "execution_count": 34,
     "metadata": {},
     "output_type": "execute_result"
    }
   ],
   "source": [
    "train_c_hat = model_selection.cross_val_predict(model, train_X, train_c, cv = 5)\n",
    "\n",
    "metrics.accuracy_score(train_c, train_c_hat)"
   ]
  },
  {
   "cell_type": "code",
   "execution_count": 35,
   "metadata": {},
   "outputs": [
    {
     "data": {
      "text/html": [
       "<div>\n",
       "<table border=\"1\" class=\"dataframe\">\n",
       "  <thead>\n",
       "    <tr style=\"text-align: right;\">\n",
       "      <th>True Class</th>\n",
       "      <th>-1</th>\n",
       "      <th>0</th>\n",
       "      <th>1</th>\n",
       "    </tr>\n",
       "    <tr>\n",
       "      <th>Hypothesized Class</th>\n",
       "      <th></th>\n",
       "      <th></th>\n",
       "      <th></th>\n",
       "    </tr>\n",
       "  </thead>\n",
       "  <tbody>\n",
       "    <tr>\n",
       "      <th>-1</th>\n",
       "      <td>414</td>\n",
       "      <td>162</td>\n",
       "      <td>62</td>\n",
       "    </tr>\n",
       "    <tr>\n",
       "      <th>0</th>\n",
       "      <td>106</td>\n",
       "      <td>249</td>\n",
       "      <td>96</td>\n",
       "    </tr>\n",
       "    <tr>\n",
       "      <th>1</th>\n",
       "      <td>64</td>\n",
       "      <td>173</td>\n",
       "      <td>427</td>\n",
       "    </tr>\n",
       "  </tbody>\n",
       "</table>\n",
       "</div>"
      ],
      "text/plain": [
       "True Class           -1    0    1\n",
       "Hypothesized Class               \n",
       "-1                  414  162   62\n",
       " 0                  106  249   96\n",
       " 1                   64  173  427"
      ]
     },
     "execution_count": 35,
     "metadata": {},
     "output_type": "execute_result"
    }
   ],
   "source": [
    "pd.crosstab(train_c_hat, train_c, rownames = ['Hypothesized Class'], colnames = ['True Class'])"
   ]
  },
  {
   "cell_type": "code",
   "execution_count": 36,
   "metadata": {},
   "outputs": [
    {
     "data": {
      "text/plain": [
       "LogisticRegression(C=1.0, class_weight=None, dual=False, fit_intercept=True,\n",
       "          intercept_scaling=1, max_iter=100, multi_class='ovr', n_jobs=1,\n",
       "          penalty='l2', random_state=None, solver='liblinear', tol=0.0001,\n",
       "          verbose=0, warm_start=False)"
      ]
     },
     "execution_count": 36,
     "metadata": {},
     "output_type": "execute_result"
    }
   ],
   "source": [
    "model.fit(train_X, train_c)"
   ]
  },
  {
   "cell_type": "code",
   "execution_count": 37,
   "metadata": {},
   "outputs": [
    {
     "data": {
      "text/plain": [
       "0.89731888191671416"
      ]
     },
     "execution_count": 37,
     "metadata": {},
     "output_type": "execute_result"
    }
   ],
   "source": [
    "model.score(train_X, train_c)"
   ]
  },
  {
   "cell_type": "markdown",
   "metadata": {},
   "source": [
    "> # Overfit!"
   ]
  },
  {
   "cell_type": "code",
   "execution_count": 38,
   "metadata": {},
   "outputs": [
    {
     "data": {
      "text/plain": [
       "0.59538066723695471"
      ]
     },
     "execution_count": 38,
     "metadata": {},
     "output_type": "execute_result"
    }
   ],
   "source": [
    "model.score(test_X, test_c)"
   ]
  },
  {
   "cell_type": "markdown",
   "metadata": {},
   "source": [
    "#### Random Forest"
   ]
  },
  {
   "cell_type": "code",
   "execution_count": 39,
   "metadata": {
    "collapsed": true
   },
   "outputs": [],
   "source": [
    "model = ensemble.RandomForestClassifier(n_estimators = 100)"
   ]
  },
  {
   "cell_type": "code",
   "execution_count": 40,
   "metadata": {},
   "outputs": [
    {
     "data": {
      "text/plain": [
       "0.56419562608674356"
      ]
     },
     "execution_count": 40,
     "metadata": {},
     "output_type": "execute_result"
    }
   ],
   "source": [
    "model_selection.cross_val_score(model, train_X, train_c, cv = 5).mean()"
   ]
  },
  {
   "cell_type": "code",
   "execution_count": 41,
   "metadata": {},
   "outputs": [
    {
     "data": {
      "text/plain": [
       "0.55504848830576159"
      ]
     },
     "execution_count": 41,
     "metadata": {},
     "output_type": "execute_result"
    }
   ],
   "source": [
    "train_c_hat = model_selection.cross_val_predict(model, train_X, train_c, cv = 5)\n",
    "\n",
    "metrics.accuracy_score(train_c, train_c_hat)"
   ]
  },
  {
   "cell_type": "code",
   "execution_count": 42,
   "metadata": {},
   "outputs": [
    {
     "data": {
      "text/html": [
       "<div>\n",
       "<table border=\"1\" class=\"dataframe\">\n",
       "  <thead>\n",
       "    <tr style=\"text-align: right;\">\n",
       "      <th>True Class</th>\n",
       "      <th>-1</th>\n",
       "      <th>0</th>\n",
       "      <th>1</th>\n",
       "    </tr>\n",
       "    <tr>\n",
       "      <th>Hypothesized Class</th>\n",
       "      <th></th>\n",
       "      <th></th>\n",
       "      <th></th>\n",
       "    </tr>\n",
       "  </thead>\n",
       "  <tbody>\n",
       "    <tr>\n",
       "      <th>-1</th>\n",
       "      <td>386</td>\n",
       "      <td>183</td>\n",
       "      <td>82</td>\n",
       "    </tr>\n",
       "    <tr>\n",
       "      <th>0</th>\n",
       "      <td>114</td>\n",
       "      <td>211</td>\n",
       "      <td>127</td>\n",
       "    </tr>\n",
       "    <tr>\n",
       "      <th>1</th>\n",
       "      <td>84</td>\n",
       "      <td>190</td>\n",
       "      <td>376</td>\n",
       "    </tr>\n",
       "  </tbody>\n",
       "</table>\n",
       "</div>"
      ],
      "text/plain": [
       "True Class           -1    0    1\n",
       "Hypothesized Class               \n",
       "-1                  386  183   82\n",
       " 0                  114  211  127\n",
       " 1                   84  190  376"
      ]
     },
     "execution_count": 42,
     "metadata": {},
     "output_type": "execute_result"
    }
   ],
   "source": [
    "pd.crosstab(train_c_hat, train_c, rownames = ['Hypothesized Class'], colnames = ['True Class'])"
   ]
  },
  {
   "cell_type": "code",
   "execution_count": 43,
   "metadata": {},
   "outputs": [
    {
     "data": {
      "text/plain": [
       "RandomForestClassifier(bootstrap=True, class_weight=None, criterion='gini',\n",
       "            max_depth=None, max_features='auto', max_leaf_nodes=None,\n",
       "            min_impurity_split=1e-07, min_samples_leaf=1,\n",
       "            min_samples_split=2, min_weight_fraction_leaf=0.0,\n",
       "            n_estimators=100, n_jobs=1, oob_score=False, random_state=None,\n",
       "            verbose=0, warm_start=False)"
      ]
     },
     "execution_count": 43,
     "metadata": {},
     "output_type": "execute_result"
    }
   ],
   "source": [
    "model.fit(train_X, train_c)"
   ]
  },
  {
   "cell_type": "code",
   "execution_count": 44,
   "metadata": {},
   "outputs": [
    {
     "data": {
      "text/plain": [
       "0.99828864803194528"
      ]
     },
     "execution_count": 44,
     "metadata": {},
     "output_type": "execute_result"
    }
   ],
   "source": [
    "model.score(train_X, train_c)"
   ]
  },
  {
   "cell_type": "markdown",
   "metadata": {},
   "source": [
    "> # Overfit again!"
   ]
  },
  {
   "cell_type": "code",
   "execution_count": 45,
   "metadata": {},
   "outputs": [
    {
     "data": {
      "text/plain": [
       "0.55260906757912742"
      ]
     },
     "execution_count": 45,
     "metadata": {},
     "output_type": "execute_result"
    }
   ],
   "source": [
    "model.score(test_X, test_c)"
   ]
  },
  {
   "cell_type": "code",
   "execution_count": 46,
   "metadata": {},
   "outputs": [
    {
     "data": {
      "text/plain": [
       "[(0.012023553811714334, u'book'),\n",
       " (0.010429936292754332, u'bore'),\n",
       " (0.0095141296031254242, u'nt'),\n",
       " (0.0087390915794781261, u'charact'),\n",
       " (0.0080286523969797813, u'read'),\n",
       " (0.0077099928832116138, u'disappoint'),\n",
       " (0.0076561721929926281, u'rowl'),\n",
       " (0.007535805809476377, u'great'),\n",
       " (0.005920344120276093, u'good'),\n",
       " (0.0058785631462225686, u'hard'),\n",
       " (0.0055046618723805221, u'finish'),\n",
       " (0.005406710362558631, u'would'),\n",
       " (0.0053736252327497179, u'stori'),\n",
       " (0.0053566488209346149, u'love'),\n",
       " (0.0053294773834786082, u'potter'),\n",
       " (0.0053042130621963491, u'get'),\n",
       " (0.0051398872114983285, u'like'),\n",
       " (0.0051147252559751513, u'interest'),\n",
       " (0.0047563412098096123, u'end'),\n",
       " (0.0047189189676218888, u'jk'),\n",
       " (0.0046840704271980402, u'write'),\n",
       " (0.0046589015236912596, u'ok'),\n",
       " (0.0044181537129504298, u'review'),\n",
       " (0.0043962122328057235, u'small'),\n",
       " (0.0043141806780687738, u'could'),\n",
       " (0.0042659312896825641, u'harri potter'),\n",
       " (0.0042507403278267937, u'harri'),\n",
       " (0.0042146002440334529, u'languag'),\n",
       " (0.0041809033274665328, u'money'),\n",
       " (0.0041684187769343703, u'human'),\n",
       " (0.0041682552008715191, u'mani'),\n",
       " (0.0041340019900013257, u'well'),\n",
       " (0.004061707215990632, u'wast'),\n",
       " (0.004057324446101236, u'tri'),\n",
       " (0.0039630330381190066, u'differ'),\n",
       " (0.0039275380879660749, u'one'),\n",
       " (0.0037194505622329299, u'jk rowl'),\n",
       " (0.0036976292521318944, u'realli'),\n",
       " (0.0036765518931776626, u'enjoy'),\n",
       " (0.003628000086382453, u'depress'),\n",
       " (0.0035167231501750601, u'peopl'),\n",
       " (0.0034476991293256481, u'time'),\n",
       " (0.0034213121501072414, u'bit'),\n",
       " (0.0034121967691468037, u'much'),\n",
       " (0.0033984524534261071, u'dull'),\n",
       " (0.0033457929867123839, u'never'),\n",
       " (0.0032826426506650298, u'amaz'),\n",
       " (0.003279442947790616, u'page'),\n",
       " (0.0031890866779934733, u'adult'),\n",
       " (0.0031693772372948987, u'care')]"
      ]
     },
     "execution_count": 46,
     "metadata": {},
     "output_type": "execute_result"
    }
   ],
   "source": [
    "feature_importances = sorted(zip(model.feature_importances_, vectorizer.get_feature_names()), reverse = True)\n",
    "\n",
    "feature_importances = feature_importances[:50]\n",
    "\n",
    "feature_importances"
   ]
  },
  {
   "cell_type": "code",
   "execution_count": 47,
   "metadata": {},
   "outputs": [
    {
     "data": {
      "image/png": "[encoded data removed]"
     },
     "metadata": {},
     "output_type": "display_data"
    }
   ],
   "source": [
    "plt.figure(figsize = (16, 8))\n",
    "\n",
    "plt.bar(\n",
    "    range(len(feature_importances)),\n",
    "    [feature_importance[0] for feature_importance in feature_importances]\n",
    ")\n",
    "\n",
    "plt.xticks(\n",
    "    range(len(feature_importances)),\n",
    "    [feature_importance[1] for feature_importance in feature_importances],\n",
    "    rotation = 90\n",
    ")\n",
    "\n",
    "plt.xlabel('Feature')\n",
    "plt.ylabel('Feature Importance')"
   ]
  }
 ],
 "metadata": {
  "kernelspec": {
   "display_name": "Python 2",
   "language": "python",
   "name": "python2"
  },
  "language_info": {
   "codemirror_mode": {
    "name": "ipython",
    "version": 2
   },
   "file_extension": ".py",
   "mimetype": "text/x-python",
   "name": "python",
   "nbconvert_exporter": "python",
   "pygments_lexer": "ipython2",
   "version": "2.7.13"
  }
 },
 "nbformat": 4,
 "nbformat_minor": 1
}
