{
 "cells": [
  {
   "cell_type": "markdown",
   "metadata": {},
   "source": [
    "# DS-SF-38 | 02 | Python | Assignment | Starter Code"
   ]
  },
  {
   "cell_type": "markdown",
   "metadata": {},
   "source": [
    "## Python"
   ]
  },
  {
   "cell_type": "markdown",
   "metadata": {},
   "source": [
    "> ## \"Data scientists' most basic, universal skill is the ability to write code.\"\n",
    ">\n",
    "> Harvard Business Review | “Data Scientists: The Sexiest Job of the 21st Century” (2012)\n",
    ">\n",
    "> (https://hbr.org/2012/10/data-scientist-the-sexiest-job-of-the-21st-century)\n",
    "\n",
    "Today, to give you some more practice beyond the course pre-requisites, we are going to implement a few functions in Python.  This assignment covers to some extend the following topics:\n",
    "\n",
    "- Functions (defining and using your own functions but also calling functions from packages)\n",
    "- Loops\n",
    "- Arithmetic operations\n",
    "- Conditional statements\n",
    "\n",
    "**Don't worry if you get stuck.  Ask around, review the answer key, and ask around more.  As this course progresses, your programming proficiency will increase.**"
   ]
  },
  {
   "cell_type": "markdown",
   "metadata": {},
   "source": [
    "> ### Question 1.  Multiples of 3 and 5\n",
    ">\n",
    "> If we list all the natural numbers below 10 that are multiples of 3 or 5, we get 3, 5, 6 and 9.  The sum of these multiples is 23.\n",
    ">\n",
    "> Find the sum of all the multiples of 3 or 5 below 1,000.\n",
    ">\n",
    "> (Source: [Project Euler | Problem 1](https://projecteuler.net/problem=1))"
   ]
  },
  {
   "cell_type": "code",
   "execution_count": 17,
   "metadata": {},
   "outputs": [
    {
     "data": {
      "text/plain": [
       "233168"
      ]
     },
     "execution_count": 17,
     "metadata": {},
     "output_type": "execute_result"
    }
   ],
   "source": [
    "# TODO \n",
    "# 9/1 6:45-6:55pm\n",
    "def get_sum_multiples_3_5(val):\n",
    "    #initialize sum_multiples\n",
    "    sum_multiples = 0\n",
    "    #loop through 1 to val\n",
    "    for x in range(val):\n",
    "        # get multiples of 3, 5, if % 0 add to sum\n",
    "        if x % 3 == 0 or x % 5 == 0:\n",
    "            sum_multiples = sum_multiples + x\n",
    "\n",
    "    print(sum_multiples)\n",
    "    return sum_multiples\n",
    "   \n",
    "get_sum_multiples_3_5(1000)\n",
    "\n",
    "\n",
    "# Ivan's answer\n",
    "def multiples(n):\n",
    "    accumulator = 0\n",
    "    for i in range(1, n):\n",
    "        if (i % 3 == 0) or (i %  5 == 0):\n",
    "            accumulator += i\n",
    "    return accumulator\n",
    "\n",
    "# multiples(1000)"
   ]
  },
  {
   "cell_type": "markdown",
   "metadata": {},
   "source": [
    "Answer: 233168"
   ]
  },
  {
   "cell_type": "markdown",
   "metadata": {},
   "source": [
    "> ### Question 2.  Estimating square roots\n",
    ">\n",
    "> Given a real number $m$, let's define the series $u$ as follow:\n",
    "> - $u_0 = 1$\n",
    "> - $u_{n+1} = \\frac{u_n ^ 2 + m}{2u_n}$\n",
    ">\n",
    ">\n",
    "> Implement the calculations of the series $u$ above to estimate square roots.  Verify that $\\sqrt{144} = 12$ and use your function to calculate $\\sqrt{1024}$."
   ]
  },
  {
   "cell_type": "code",
   "execution_count": 30,
   "metadata": {
    "collapsed": true
   },
   "outputs": [],
   "source": [
    "# TODO\n",
    "# 9/1 7:04 - 7/14\n",
    "# def sqrt(m):\n",
    "#     u_n = 1.\n",
    "    \n",
    "#     while True:\n",
    "#         u_n_plus_1 = (u_n ** 2 + m) / (2 * u_n)\n",
    "        \n",
    "#         # @TODO don't get why the comparator\n",
    "#         if abs(u_n_plus_1 / u_n - 1)\n",
    "        \n",
    "#     return u_n\n",
    "    \n",
    "#########################\n",
    "# Ivan's code \n",
    "\n",
    "def sqrt(m):\n",
    "    u_n = 1.\n",
    "\n",
    "    while True:\n",
    "        u_n_plus_1 = (u_n ** 2 + m) / (2 * u_n)\n",
    "\n",
    "        if abs(u_n_plus_1 / u_n - 1) < 10 ** -6:\n",
    "            break\n",
    "\n",
    "        u_n = u_n_plus_1\n",
    "\n",
    "    return u_n\n",
    "    "
   ]
  },
  {
   "cell_type": "markdown",
   "metadata": {},
   "source": [
    "Answer: TODO"
   ]
  },
  {
   "cell_type": "markdown",
   "metadata": {},
   "source": [
    "> ### Question 3.  Prime Numbers\n",
    ">\n",
    "> A prime (number) is a natural number greater than 1 that has no positive divisors other than 1 and itself.  ([Wikipedia](https://en.wikipedia.org/wiki/Prime_number))\n",
    ">\n",
    "> Calculate all primes below 1,000.  What's their sum?"
   ]
  },
  {
   "cell_type": "code",
   "execution_count": 40,
   "metadata": {},
   "outputs": [
    {
     "name": "stdout",
     "output_type": "stream",
     "text": [
      "[2, 3, 5, 7, 11, 13, 17, 19, 23, 29, 31, 37, 41, 43, 47, 53, 59, 61, 67, 71, 73, 79, 83, 89, 97]\n"
     ]
    }
   ],
   "source": [
    "# TODO\n",
    "# 9/1 7:15 - 7:35\n",
    "\n",
    "# For this prime function, ended up looking @ ivans\n",
    "def is_prime(n):\n",
    "    for i in range (2, int(sqrt(n)+1)): # oh okay, the sqrt is so it doesnt have to loop all the way up to n, but it wouldn't even hit it if returned False at any of the integers by the halfway point\n",
    "        if n % i == 0:\n",
    "            return False\n",
    "    # this catches if n == 1, 2\n",
    "    return True\n",
    "\n",
    "def find_primes(val):\n",
    "    primes_list = []\n",
    "    for i in range(2, val+1):\n",
    "        # if i is a prime put it in the list\n",
    "        if is_prime(i):\n",
    "#             print i\n",
    "            primes_list.append(i)\n",
    "    print primes_list\n",
    "    return primes_list\n",
    "\n",
    "primes_list = find_primes(100)"
   ]
  },
  {
   "cell_type": "code",
   "execution_count": 41,
   "metadata": {},
   "outputs": [
    {
     "data": {
      "text/plain": [
       "1060"
      ]
     },
     "execution_count": 41,
     "metadata": {},
     "output_type": "execute_result"
    }
   ],
   "source": [
    "sum(primes_list)"
   ]
  },
  {
   "cell_type": "markdown",
   "metadata": {},
   "source": [
    "Answer: TODO"
   ]
  },
  {
   "cell_type": "markdown",
   "metadata": {},
   "source": [
    "> ### Question 4.  Largest prime factor\n",
    ">\n",
    "> The prime factors of 13195 are 5, 7, 13 and 29.\n",
    ">\n",
    "> What is the largest prime factor of the number 600851475143?\n",
    ">\n",
    "> (Source: [Project Euler | Problem 3](https://projecteuler.net/problem=3))"
   ]
  },
  {
   "cell_type": "code",
   "execution_count": null,
   "metadata": {
    "collapsed": true
   },
   "outputs": [],
   "source": [
    "# TODO\n",
    "#"
   ]
  },
  {
   "cell_type": "markdown",
   "metadata": {},
   "source": [
    "Answer: TODO"
   ]
  },
  {
   "cell_type": "markdown",
   "metadata": {},
   "source": [
    "> ### Question 5.  Mean\n",
    ">\n",
    "> Write a function to calculate the mean (average) of a list.\n",
    ">\n",
    "> What's the mean of 10, 8, 13, 9, 11, 14, 6, 4, 12, 7, and 5?"
   ]
  },
  {
   "cell_type": "code",
   "execution_count": null,
   "metadata": {
    "collapsed": true
   },
   "outputs": [],
   "source": [
    "# TODO"
   ]
  },
  {
   "cell_type": "markdown",
   "metadata": {},
   "source": [
    "Answer: TODO"
   ]
  },
  {
   "cell_type": "markdown",
   "metadata": {},
   "source": [
    "> ### Question 6.  Sample standard deviation\n",
    ">\n",
    "> Write a function to calculate the standard deviation of a sample.\n",
    ">\n",
    "> Given the sample $x_1, x_2, ..., x_N$, its standard deviation is defined as $s = \\sqrt{\\frac{1}{N - 1} \\sum_{i = 1}^{N} (x_i  - \\bar{x})^2}$, with $\\bar{x}$ as the sample mean.\n",
    ">\n",
    "> What's the standard deviation of the following sample: 10, 8, 13, 9, 11, 14, 6, 4, 12, 7, and 5?\n",
    ">\n",
    "> ([Wikipedia](https://en.wikipedia.org/wiki/Standard_deviation#Sample_standard_deviation))"
   ]
  },
  {
   "cell_type": "code",
   "execution_count": null,
   "metadata": {
    "collapsed": true
   },
   "outputs": [],
   "source": [
    "# TODO"
   ]
  },
  {
   "cell_type": "markdown",
   "metadata": {},
   "source": [
    "Answer: TODO"
   ]
  },
  {
   "cell_type": "markdown",
   "metadata": {},
   "source": [
    "> ### Question 7.  Median\n",
    ">\n",
    "> Write a function to calculate the median (\"middle value\") of a list.  ([Wikipedia](https://en.wikipedia.org/wiki/Median))\n",
    ">\n",
    "> What's the median of 10, 8, 13, 9, 11, 14, 6, 4, 12, 7, and 5?"
   ]
  },
  {
   "cell_type": "code",
   "execution_count": 6,
   "metadata": {},
   "outputs": [
    {
     "name": "stdout",
     "output_type": "stream",
     "text": [
      "[4, 5, 6, 7, 8, 9, 10, 11, 12, 13, 14]\n"
     ]
    },
    {
     "data": {
      "text/plain": [
       "9"
      ]
     },
     "execution_count": 6,
     "metadata": {},
     "output_type": "execute_result"
    }
   ],
   "source": [
    "# TODO\n",
    "# 9/4 9:30am - 9:40\n",
    "def get_median(num_arr):\n",
    "    \n",
    "    med_val = 0\n",
    "    # Order list first\n",
    "    num_arr.sort()\n",
    "    print(num_arr)\n",
    "    \n",
    "    # val @ mid length\n",
    "    med_val = num_arr[len(num_arr)/2]\n",
    "    \n",
    "    return med_val\n",
    "\n",
    "\n",
    "# Ivan's version\n",
    "def median(xs):\n",
    "    n = len(xs) # lots of logic around the length\n",
    "    if n == 0:  # Okay I forgot edge cases\n",
    "        return None\n",
    "    sorted_xs = sorted(xs)\n",
    "    \n",
    "    i = n / 2 # middle\n",
    "    if(n % 2 == 1):\n",
    "        return sorted_xs[i]\n",
    "    else:\n",
    "        return mean(sorted_xs[i - 1: i + 1]) # For even #d lists\n",
    "\n",
    "test_arr = [10, 8, 13, 9, 11, 14, 6, 4, 12, 7, 5]\n",
    "get_median(test_arr)\n",
    "median(test_arr)"
   ]
  },
  {
   "cell_type": "markdown",
   "metadata": {},
   "source": [
    "Answer: TODO"
   ]
  },
  {
   "cell_type": "markdown",
   "metadata": {},
   "source": [
    "> ### Question 8.  Mode\n",
    ">\n",
    "> Write a function to calculate the mode (\"most frequent value\") of a list.  ([Wikipedia](https://en.wikipedia.org/wiki/Mode_(statistics)))\n",
    ">\n",
    "> What's the mode of 10, 8, 13, 9, 11, 14, 6, 4, 12, 7 and 5?  How about the mode of 8, 8, 8, 8, 8, 8, 19, 8, 8 and 8?"
   ]
  },
  {
   "cell_type": "code",
   "execution_count": 12,
   "metadata": {},
   "outputs": [
    {
     "name": "stdout",
     "output_type": "stream",
     "text": [
      "4\n",
      "5\n",
      "6\n",
      "7\n",
      "8\n",
      "9\n",
      "10\n",
      "11\n",
      "12\n",
      "13\n",
      "14\n"
     ]
    },
    {
     "data": {
      "text/plain": [
       "[]"
      ]
     },
     "execution_count": 12,
     "metadata": {},
     "output_type": "execute_result"
    }
   ],
   "source": [
    "# TODO\n",
    "# 9/4 9:50 - 10:00\n",
    "# Too complex, dictionary approach\n",
    "\n",
    "def get_mode(num_arr):\n",
    "    # sort first\n",
    "    sorted_arr = sorted(num_arr)\n",
    "    # loop through, if val is same as the one just now, that num is now the \n",
    "    # build dict, seems excessive, def would refactor\n",
    "    d = {}\n",
    "    for i in sorted_arr:\n",
    "        if sorted_arr[i] == sorted_arr[i-1]:\n",
    "#             d[]\n",
    "    \n",
    "    \n",
    "    # if the num count is greater than half the ize of arr, DEF most frequent\n",
    "    return []\n",
    "\n",
    "#########\n",
    "# Ivan's\n",
    "#########\n",
    "\n",
    "\n",
    "test_arr = [10, 8, 13, 9, 11, 14, 6, 4, 12, 7, 5]\n",
    "# sorted(test_arr)\n",
    "get_mode(test_arr)\n",
    "\n",
    "    "
   ]
  },
  {
   "cell_type": "markdown",
   "metadata": {},
   "source": [
    "Answer: TODO"
   ]
  }
 ],
 "metadata": {
  "kernelspec": {
   "display_name": "Python 2",
   "language": "python",
   "name": "python2"
  },
  "language_info": {
   "codemirror_mode": {
    "name": "ipython",
    "version": 2
   },
   "file_extension": ".py",
   "mimetype": "text/x-python",
   "name": "python",
   "nbconvert_exporter": "python",
   "pygments_lexer": "ipython2",
   "version": "2.7.13"
  }
 },
 "nbformat": 4,
 "nbformat_minor": 1
}
