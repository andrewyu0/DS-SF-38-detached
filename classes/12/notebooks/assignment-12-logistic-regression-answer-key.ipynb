{
 "cells": [
  {
   "cell_type": "markdown",
   "metadata": {},
   "source": [
    "# DS-SF-38 | 12 | Logistic Regression | Assignment | Answer Key"
   ]
  },
  {
   "cell_type": "markdown",
   "metadata": {},
   "source": [
    "## Myopia"
   ]
  },
  {
   "cell_type": "code",
   "execution_count": 1,
   "metadata": {
    "collapsed": true
   },
   "outputs": [],
   "source": [
    "import os\n",
    "\n",
    "import numpy as np\n",
    "import pandas as pd\n",
    "pd.set_option('display.max_rows', 10)\n",
    "pd.set_option('display.notebook_repr_html', True)\n",
    "pd.set_option('display.max_columns', 10)\n",
    "\n",
    "import statsmodels.api as sm\n",
    "\n",
    "from sklearn import preprocessing, linear_model, model_selection, metrics\n",
    "\n",
    "import matplotlib.pyplot as plt\n",
    "%matplotlib inline\n",
    "plt.style.use('ggplot')"
   ]
  },
  {
   "cell_type": "markdown",
   "metadata": {},
   "source": [
    "In this assignment, we will be looking at what contributes to myopia (i.e., nearsightedness) the most.  My parents always told me not to watch TV or play video game as it will affect negatively my vision.  (They were strangely fine with studying!).  But we are data scientists now, so let's go and explain myopia!"
   ]
  },
  {
   "cell_type": "code",
   "execution_count": 2,
   "metadata": {
    "collapsed": true
   },
   "outputs": [],
   "source": [
    "df = pd.read_csv(os.path.join('..', 'datasets', 'dataset-12-myopia.csv'))"
   ]
  },
  {
   "cell_type": "code",
   "execution_count": 3,
   "metadata": {},
   "outputs": [
    {
     "data": {
      "text/html": [
       "<div>\n",
       "<table border=\"1\" class=\"dataframe\">\n",
       "  <thead>\n",
       "    <tr style=\"text-align: right;\">\n",
       "      <th></th>\n",
       "      <th>ID</th>\n",
       "      <th>STUDYYEAR</th>\n",
       "      <th>MYOPIC</th>\n",
       "      <th>AGE</th>\n",
       "      <th>GENDER</th>\n",
       "      <th>...</th>\n",
       "      <th>STUDYHR</th>\n",
       "      <th>TVHR</th>\n",
       "      <th>DIOPTERHR</th>\n",
       "      <th>MOMMY</th>\n",
       "      <th>DADMY</th>\n",
       "    </tr>\n",
       "  </thead>\n",
       "  <tbody>\n",
       "    <tr>\n",
       "      <th>0</th>\n",
       "      <td>1</td>\n",
       "      <td>1992</td>\n",
       "      <td>1</td>\n",
       "      <td>6</td>\n",
       "      <td>1</td>\n",
       "      <td>...</td>\n",
       "      <td>0</td>\n",
       "      <td>10</td>\n",
       "      <td>34</td>\n",
       "      <td>1</td>\n",
       "      <td>1</td>\n",
       "    </tr>\n",
       "    <tr>\n",
       "      <th>1</th>\n",
       "      <td>2</td>\n",
       "      <td>1995</td>\n",
       "      <td>0</td>\n",
       "      <td>6</td>\n",
       "      <td>1</td>\n",
       "      <td>...</td>\n",
       "      <td>1</td>\n",
       "      <td>7</td>\n",
       "      <td>12</td>\n",
       "      <td>1</td>\n",
       "      <td>1</td>\n",
       "    </tr>\n",
       "    <tr>\n",
       "      <th>2</th>\n",
       "      <td>3</td>\n",
       "      <td>1991</td>\n",
       "      <td>0</td>\n",
       "      <td>6</td>\n",
       "      <td>1</td>\n",
       "      <td>...</td>\n",
       "      <td>0</td>\n",
       "      <td>10</td>\n",
       "      <td>14</td>\n",
       "      <td>0</td>\n",
       "      <td>0</td>\n",
       "    </tr>\n",
       "    <tr>\n",
       "      <th>3</th>\n",
       "      <td>4</td>\n",
       "      <td>1990</td>\n",
       "      <td>1</td>\n",
       "      <td>6</td>\n",
       "      <td>1</td>\n",
       "      <td>...</td>\n",
       "      <td>0</td>\n",
       "      <td>4</td>\n",
       "      <td>37</td>\n",
       "      <td>0</td>\n",
       "      <td>1</td>\n",
       "    </tr>\n",
       "    <tr>\n",
       "      <th>4</th>\n",
       "      <td>5</td>\n",
       "      <td>1995</td>\n",
       "      <td>0</td>\n",
       "      <td>5</td>\n",
       "      <td>0</td>\n",
       "      <td>...</td>\n",
       "      <td>0</td>\n",
       "      <td>4</td>\n",
       "      <td>4</td>\n",
       "      <td>1</td>\n",
       "      <td>0</td>\n",
       "    </tr>\n",
       "    <tr>\n",
       "      <th>...</th>\n",
       "      <td>...</td>\n",
       "      <td>...</td>\n",
       "      <td>...</td>\n",
       "      <td>...</td>\n",
       "      <td>...</td>\n",
       "      <td>...</td>\n",
       "      <td>...</td>\n",
       "      <td>...</td>\n",
       "      <td>...</td>\n",
       "      <td>...</td>\n",
       "      <td>...</td>\n",
       "    </tr>\n",
       "    <tr>\n",
       "      <th>613</th>\n",
       "      <td>614</td>\n",
       "      <td>1995</td>\n",
       "      <td>1</td>\n",
       "      <td>6</td>\n",
       "      <td>0</td>\n",
       "      <td>...</td>\n",
       "      <td>3</td>\n",
       "      <td>14</td>\n",
       "      <td>37</td>\n",
       "      <td>1</td>\n",
       "      <td>0</td>\n",
       "    </tr>\n",
       "    <tr>\n",
       "      <th>614</th>\n",
       "      <td>615</td>\n",
       "      <td>1993</td>\n",
       "      <td>0</td>\n",
       "      <td>6</td>\n",
       "      <td>1</td>\n",
       "      <td>...</td>\n",
       "      <td>0</td>\n",
       "      <td>8</td>\n",
       "      <td>10</td>\n",
       "      <td>1</td>\n",
       "      <td>1</td>\n",
       "    </tr>\n",
       "    <tr>\n",
       "      <th>615</th>\n",
       "      <td>616</td>\n",
       "      <td>1995</td>\n",
       "      <td>0</td>\n",
       "      <td>6</td>\n",
       "      <td>0</td>\n",
       "      <td>...</td>\n",
       "      <td>0</td>\n",
       "      <td>4</td>\n",
       "      <td>4</td>\n",
       "      <td>1</td>\n",
       "      <td>1</td>\n",
       "    </tr>\n",
       "    <tr>\n",
       "      <th>616</th>\n",
       "      <td>617</td>\n",
       "      <td>1991</td>\n",
       "      <td>0</td>\n",
       "      <td>6</td>\n",
       "      <td>1</td>\n",
       "      <td>...</td>\n",
       "      <td>0</td>\n",
       "      <td>15</td>\n",
       "      <td>23</td>\n",
       "      <td>0</td>\n",
       "      <td>0</td>\n",
       "    </tr>\n",
       "    <tr>\n",
       "      <th>617</th>\n",
       "      <td>618</td>\n",
       "      <td>1994</td>\n",
       "      <td>0</td>\n",
       "      <td>6</td>\n",
       "      <td>0</td>\n",
       "      <td>...</td>\n",
       "      <td>0</td>\n",
       "      <td>10</td>\n",
       "      <td>14</td>\n",
       "      <td>1</td>\n",
       "      <td>1</td>\n",
       "    </tr>\n",
       "  </tbody>\n",
       "</table>\n",
       "<p>618 rows × 18 columns</p>\n",
       "</div>"
      ],
      "text/plain": [
       "      ID  STUDYYEAR  MYOPIC  AGE  GENDER  ...    STUDYHR  TVHR  DIOPTERHR  \\\n",
       "0      1       1992       1    6       1  ...          0    10         34   \n",
       "1      2       1995       0    6       1  ...          1     7         12   \n",
       "2      3       1991       0    6       1  ...          0    10         14   \n",
       "3      4       1990       1    6       1  ...          0     4         37   \n",
       "4      5       1995       0    5       0  ...          0     4          4   \n",
       "..   ...        ...     ...  ...     ...  ...        ...   ...        ...   \n",
       "613  614       1995       1    6       0  ...          3    14         37   \n",
       "614  615       1993       0    6       1  ...          0     8         10   \n",
       "615  616       1995       0    6       0  ...          0     4          4   \n",
       "616  617       1991       0    6       1  ...          0    15         23   \n",
       "617  618       1994       0    6       0  ...          0    10         14   \n",
       "\n",
       "     MOMMY  DADMY  \n",
       "0        1      1  \n",
       "1        1      1  \n",
       "2        0      0  \n",
       "3        0      1  \n",
       "4        1      0  \n",
       "..     ...    ...  \n",
       "613      1      0  \n",
       "614      1      1  \n",
       "615      1      1  \n",
       "616      0      0  \n",
       "617      1      1  \n",
       "\n",
       "[618 rows x 18 columns]"
      ]
     },
     "execution_count": 3,
     "metadata": {},
     "output_type": "execute_result"
    }
   ],
   "source": [
    "df"
   ]
  },
  {
   "cell_type": "markdown",
   "metadata": {},
   "source": [
    "Here's the data dictionnary for this dataset:\n",
    "\n",
    "| Variable Name | Variable Description | Values/Labels |\n",
    "|:---|:---|:---|\n",
    "| `ID` | Subject identifier | Integer (range 1-1503) |\n",
    "| `STUDYYEAR` | Year subject entered the study | Year |\n",
    "| `MYOPIC` | Myopia within the first 5 yr of follow up<sup>(a)</sup> | `0 = No`, `1 = Yes` |\n",
    "| `AGE` | Age at first visit | Years |\n",
    "| `GENDER` | Gender | `0 = Male`, `1 = Female` |\n",
    "| `SPHEQ` | Spherical equivalent refraction<sup>(b)</sup> | Diopter |\n",
    "| `AL` | Axial length<sup>(c)</sup> | mm |\n",
    "| `ACD` | Anterior chamber depth<sup>(d)</sup> | mm |\n",
    "| `LT` | Lens thickness<sup>(e)</sup> | mm |\n",
    "| `VCD` | Vitreous chamber depth<sup>(f)</sup> | mm |\n",
    "| `SPORTHR` | How many hours per week outside of school the child spent engaging in sports/outdoor activities | Hours per week |\n",
    "| `READHR` | How many hours per week outside of school the child spent reading for pleasure | Hours per week |\n",
    "| `COMPHR` | How many hours per week outside of school the child spent playing video/computer games or working on the computer | Hours per week |\n",
    "| `STUDYHR` | How many hours per week outside of school the child spent reading or studying for school assignments | Hours per week |\n",
    "| `TVHR` | How many hours per week outside of school the child spent watching television | Hours per week |\n",
    "| `DIOPTERHR` | Composite of near-work activities | Hours per week  |\n",
    "| `MOMMY` | Was the subject's mother myopic?<sup>g</sup> | `0 = No`, `1 = Yes` |\n",
    "| `DADMY` | Was the subject's father myopic? | `0 = No`, `1 = Yes` |\n",
    "<sup>(a)</sup> MYOPIC is defined as SPHEQ <= -0.75D<br>\n",
    "<sup>(b)</sup> A measure of the eye's effective focusing power.  Eyes that are \"normal\" (don't require glasses or contact lenses) have spherical equivalents between -0.25 diopters (D) and +1.00 D. The more negative the spherical equivalent, the more myopic the subject<br>\n",
    "<sup>(c)</sup> The length of eye from front to back<br>\n",
    "<sup>(d)</sup> The length from front to back of the aqueous-containing space of the eye between the cornea and the iris<br>\n",
    "<sup>(e)</sup> The length from front to back of the crystalline lens<br>\n",
    "<sup>(f)</sup> The length from front to back of the aqueous-containing space of the eye in front of the retina<br>\n",
    "<sup>(g)</sup> DIOPTERHR = 3 * (READHR + STUDYHR) + 2 * COMPHR + TVHR"
   ]
  },
  {
   "cell_type": "markdown",
   "metadata": {},
   "source": [
    "> ### Question 1.  `ID` and `STUDYYEAR` do not predict myopia.  Disregard them.  Then, consider two types of inputs.  First, all general inputs (i.e., physical and external inputs) as `X1`.  Second, only the external inputs as `X2`.  Finally, define the response vector `c`"
   ]
  },
  {
   "cell_type": "code",
   "execution_count": 4,
   "metadata": {
    "collapsed": true
   },
   "outputs": [],
   "source": [
    "X1 = df[ ['AGE',\n",
    "    'GENDER',\n",
    "    'SPHEQ',\n",
    "    'AL',\n",
    "    'ACD',\n",
    "    'LT',\n",
    "    'VCD',\n",
    "    'SPORTHR',\n",
    "    'READHR',\n",
    "    'COMPHR',\n",
    "    'STUDYHR',\n",
    "    'TVHR',\n",
    "    'DIOPTERHR',\n",
    "    'MOMMY',\n",
    "    'DADMY'] ]\n",
    "\n",
    "X2 = df[ ['AGE',\n",
    "    'GENDER',\n",
    "    'SPORTHR',\n",
    "    'READHR',\n",
    "    'COMPHR',\n",
    "    'STUDYHR',\n",
    "    'TVHR',\n",
    "    'MOMMY',\n",
    "    'DADMY'] ]\n",
    "\n",
    "c = df.MYOPIC"
   ]
  },
  {
   "cell_type": "markdown",
   "metadata": {},
   "source": [
    "> ### Question 2.  Run your regression line on `X1` and interpret the `MOMMY` and `DADMY` coefficients"
   ]
  },
  {
   "cell_type": "code",
   "execution_count": 5,
   "metadata": {},
   "outputs": [
    {
     "name": "stdout",
     "output_type": "stream",
     "text": [
      "[ 0.0525376]\n",
      "[('AGE', 0.003790199733352572), ('GENDER', 0.5362512219703558), ('SPHEQ', -3.394254272664524), ('AL', 0.11608689499367995), ('ACD', 0.77257197425774238), ('LT', -0.3120202236690367), ('VCD', -0.32603699176050915), ('SPORTHR', -0.047395192919106363), ('READHR', 0.097641789928671119), ('COMPHR', 0.050158468712371063), ('STUDYHR', -0.13224775101398473), ('TVHR', -0.0043863619614795029), ('DIOPTERHR', -0.0078873077939933013), ('MOMMY', 0.6389959285298199), ('DADMY', 0.72678877441615386)]\n"
     ]
    }
   ],
   "source": [
    "model = linear_model.LogisticRegression().fit(X1, c)\n",
    "\n",
    "print model.intercept_\n",
    "print zip(X1.columns, model.coef_[0])"
   ]
  },
  {
   "cell_type": "markdown",
   "metadata": {},
   "source": [
    "Answer: It seems that genetics affects myopia significantly.  Odds of Myopia increases 63% and 73% with positive case of myopia for mothers and fathers respectively.  We should further check the model's p-values."
   ]
  },
  {
   "cell_type": "markdown",
   "metadata": {},
   "source": [
    "> ### Question 3.  What's the model accuracy?"
   ]
  },
  {
   "cell_type": "code",
   "execution_count": 6,
   "metadata": {},
   "outputs": [
    {
     "data": {
      "text/plain": [
       "0.89320388349514568"
      ]
     },
     "execution_count": 6,
     "metadata": {},
     "output_type": "execute_result"
    }
   ],
   "source": [
    "model.score(X1, c)"
   ]
  },
  {
   "cell_type": "markdown",
   "metadata": {},
   "source": [
    "Answer: ~89%"
   ]
  },
  {
   "cell_type": "markdown",
   "metadata": {},
   "source": [
    "> ### Question 3.  Use a 5-fold cross-validation to measure the model's accuracy"
   ]
  },
  {
   "cell_type": "code",
   "execution_count": 7,
   "metadata": {},
   "outputs": [
    {
     "data": {
      "text/plain": [
       "0.88023592971413578"
      ]
     },
     "execution_count": 7,
     "metadata": {},
     "output_type": "execute_result"
    }
   ],
   "source": [
    "model_selection.cross_val_score(model, X1 , c, cv = 5).mean()"
   ]
  },
  {
   "cell_type": "markdown",
   "metadata": {},
   "source": [
    "Answer: ~88%"
   ]
  },
  {
   "cell_type": "markdown",
   "metadata": {},
   "source": [
    "> ### Question 4.  In the dataset, what's the percentage of myopic cases?"
   ]
  },
  {
   "cell_type": "code",
   "execution_count": 8,
   "metadata": {},
   "outputs": [
    {
     "data": {
      "text/plain": [
       "0.13106796116504854"
      ]
     },
     "execution_count": 8,
     "metadata": {},
     "output_type": "execute_result"
    }
   ],
   "source": [
    "df.MYOPIC.mean()"
   ]
  },
  {
   "cell_type": "markdown",
   "metadata": {},
   "source": [
    "Answer: ~13%"
   ]
  },
  {
   "cell_type": "markdown",
   "metadata": {},
   "source": [
    "> ### Question 5.  Based on the result above, is your model's accuracy good?"
   ]
  },
  {
   "cell_type": "code",
   "execution_count": 9,
   "metadata": {},
   "outputs": [
    {
     "data": {
      "text/plain": [
       "0.11976407028586422"
      ]
     },
     "execution_count": 9,
     "metadata": {},
     "output_type": "execute_result"
    }
   ],
   "source": [
    "1 - model_selection.cross_val_score(model, X1 , c, cv = 5).mean()"
   ]
  },
  {
   "cell_type": "markdown",
   "metadata": {},
   "source": [
    "Answer: It isn't too impressive: If you were to predict that no one was myopic, your misclassification rate would be 13.1%.  with your current model your error is 12.0%."
   ]
  },
  {
   "cell_type": "markdown",
   "metadata": {},
   "source": [
    "> ### Question 6.  Build a confusion matrix"
   ]
  },
  {
   "cell_type": "code",
   "execution_count": 10,
   "metadata": {},
   "outputs": [
    {
     "data": {
      "text/html": [
       "<div>\n",
       "<table border=\"1\" class=\"dataframe\">\n",
       "  <thead>\n",
       "    <tr style=\"text-align: right;\">\n",
       "      <th>True Class</th>\n",
       "      <th>0</th>\n",
       "      <th>1</th>\n",
       "    </tr>\n",
       "    <tr>\n",
       "      <th>Hypothesized Class</th>\n",
       "      <th></th>\n",
       "      <th></th>\n",
       "    </tr>\n",
       "  </thead>\n",
       "  <tbody>\n",
       "    <tr>\n",
       "      <th>0</th>\n",
       "      <td>524</td>\n",
       "      <td>13</td>\n",
       "    </tr>\n",
       "    <tr>\n",
       "      <th>1</th>\n",
       "      <td>53</td>\n",
       "      <td>28</td>\n",
       "    </tr>\n",
       "  </tbody>\n",
       "</table>\n",
       "</div>"
      ],
      "text/plain": [
       "True Class            0   1\n",
       "Hypothesized Class         \n",
       "0                   524  13\n",
       "1                    53  28"
      ]
     },
     "execution_count": 10,
     "metadata": {},
     "output_type": "execute_result"
    }
   ],
   "source": [
    "c_hat = model.predict(X1)\n",
    "\n",
    "pd.crosstab(c,\n",
    "    c_hat,\n",
    "    rownames = ['Hypothesized Class'],\n",
    "    colnames = ['True Class'])"
   ]
  },
  {
   "cell_type": "markdown",
   "metadata": {},
   "source": [
    "> ### Question 7.  What's the model `FPR` and `FNR` (i.e., type I and type II error rates)?"
   ]
  },
  {
   "cell_type": "markdown",
   "metadata": {},
   "source": [
    "The false positive rate is the proportion of all negatives that still yield positive test outcomes, i.e., the conditional probability of a positive test result given an event that was not present."
   ]
  },
  {
   "cell_type": "code",
   "execution_count": 11,
   "metadata": {},
   "outputs": [
    {
     "name": "stdout",
     "output_type": "stream",
     "text": [
      "13\n",
      "0.024208566108\n"
     ]
    }
   ],
   "source": [
    "fp = ((c_hat == 1) & (c == 0)).sum()\n",
    "n = (c == 0).sum()\n",
    "fpr = 1. * fp / n\n",
    "\n",
    "print fp\n",
    "print fpr"
   ]
  },
  {
   "cell_type": "markdown",
   "metadata": {},
   "source": [
    "Complementarily, the false negative rate is the proportion of positives which yield negative test outcomes with the test, i.e., the conditional probability of a negative test result given that the condition being looked for is present."
   ]
  },
  {
   "cell_type": "code",
   "execution_count": 12,
   "metadata": {},
   "outputs": [
    {
     "name": "stdout",
     "output_type": "stream",
     "text": [
      "53\n",
      "0.654320987654\n"
     ]
    }
   ],
   "source": [
    "fn = ((c_hat == 0) & (c == 1)).sum()\n",
    "p = (c == 1).sum()\n",
    "fnr = 1. * fn / p\n",
    "\n",
    "print fn\n",
    "print fnr"
   ]
  },
  {
   "cell_type": "markdown",
   "metadata": {},
   "source": [
    "Answer: FPR ~ 2.4%, FNR ~ 65%"
   ]
  },
  {
   "cell_type": "markdown",
   "metadata": {},
   "source": [
    "> ### Question 8.  What's the trade-off between these two errors?"
   ]
  },
  {
   "cell_type": "code",
   "execution_count": 13,
   "metadata": {
    "collapsed": true
   },
   "outputs": [],
   "source": [
    "p_hat = pd.Series(model.predict_proba(X1).T[1])\n",
    "\n",
    "def fpr(p):\n",
    "    c_hat = (p_hat >= p)\n",
    "    fp = ((c_hat == 1) & (c == 0)).sum()\n",
    "    n = (c == 0).sum()\n",
    "    return 1. * fp / n\n",
    "\n",
    "def fnr(p):\n",
    "    c_hat = (p_hat >= p)\n",
    "    fn = ((c_hat == 0) & (c == 1)).sum()\n",
    "    p = (c == 1).sum()\n",
    "    return 1. * fn / p\n",
    "\n",
    "fpnrs = pd.DataFrame({'threshold': p_hat,\n",
    "        'fpr': p_hat.apply(fpr),\n",
    "        'fnr': p_hat.apply(fnr)},\n",
    "    columns = ['threshold', 'fpr', 'fnr']).\\\n",
    "    sort_values(by = 'threshold')"
   ]
  },
  {
   "cell_type": "code",
   "execution_count": 14,
   "metadata": {},
   "outputs": [
    {
     "data": {
      "image/png": "[encoded data removed]"
     },
     "metadata": {},
     "output_type": "display_data"
    }
   ],
   "source": [
    "fpnrs.plot(x = 'fnr', y = 'fpr')"
   ]
  },
  {
   "cell_type": "markdown",
   "metadata": {},
   "source": [
    "Answer: You cannot reduce both errors at the same time.  If you want to reduce the type I error, you'll need to allow for a later type II error and vice versa."
   ]
  },
  {
   "cell_type": "markdown",
   "metadata": {},
   "source": [
    "> ### Question 9.  Run your regression line on `X2` and interpret your results specifically on `SPORTHR`, `READHR`, `COMPHR`, `STUDYHR`, `TVHR`, and `GENDER`.  You might want to use `statsmodels`' `Logit()`"
   ]
  },
  {
   "cell_type": "code",
   "execution_count": 15,
   "metadata": {},
   "outputs": [
    {
     "name": "stdout",
     "output_type": "stream",
     "text": [
      "Optimization terminated successfully.\n",
      "         Current function value: 0.354054\n",
      "         Iterations 7\n"
     ]
    },
    {
     "data": {
      "text/html": [
       "<table class=\"simpletable\">\n",
       "<caption>Logit Regression Results</caption>\n",
       "<tr>\n",
       "  <th>Dep. Variable:</th>      <td>MYOPIC</td>      <th>  No. Observations:  </th>  <td>   618</td>  \n",
       "</tr>\n",
       "<tr>\n",
       "  <th>Model:</th>               <td>Logit</td>      <th>  Df Residuals:      </th>  <td>   608</td>  \n",
       "</tr>\n",
       "<tr>\n",
       "  <th>Method:</th>               <td>MLE</td>       <th>  Df Model:          </th>  <td>     9</td>  \n",
       "</tr>\n",
       "<tr>\n",
       "  <th>Date:</th>          <td></td> <th>  Pseudo R-squ.:     </th>  <td>0.08846</td> \n",
       "</tr>\n",
       "<tr>\n",
       "  <th>Time:</th>              <td></td>     <th>  Log-Likelihood:    </th> <td> -218.81</td> \n",
       "</tr>\n",
       "<tr>\n",
       "  <th>converged:</th>           <td>True</td>       <th>  LL-Null:           </th> <td> -240.04</td> \n",
       "</tr>\n",
       "<tr>\n",
       "  <th> </th>                      <td> </td>        <th>  LLR p-value:       </th> <td>2.700e-06</td>\n",
       "</tr>\n",
       "</table>\n",
       "<table class=\"simpletable\">\n",
       "<tr>\n",
       "     <td></td>        <th>coef</th>     <th>std err</th>      <th>z</th>      <th>P>|z|</th> <th>[95.0% Conf. Int.]</th> \n",
       "</tr>\n",
       "<tr>\n",
       "  <th>const</th>   <td>   -4.7493</td> <td>    1.287</td> <td>   -3.689</td> <td> 0.000</td> <td>   -7.273    -2.226</td>\n",
       "</tr>\n",
       "<tr>\n",
       "  <th>AGE</th>     <td>    0.2744</td> <td>    0.193</td> <td>    1.423</td> <td> 0.155</td> <td>   -0.104     0.652</td>\n",
       "</tr>\n",
       "<tr>\n",
       "  <th>GENDER</th>  <td>    0.4241</td> <td>    0.265</td> <td>    1.599</td> <td> 0.110</td> <td>   -0.096     0.944</td>\n",
       "</tr>\n",
       "<tr>\n",
       "  <th>SPORTHR</th> <td>   -0.0425</td> <td>    0.018</td> <td>   -2.329</td> <td> 0.020</td> <td>   -0.078    -0.007</td>\n",
       "</tr>\n",
       "<tr>\n",
       "  <th>READHR</th>  <td>    0.0941</td> <td>    0.038</td> <td>    2.446</td> <td> 0.014</td> <td>    0.019     0.169</td>\n",
       "</tr>\n",
       "<tr>\n",
       "  <th>COMPHR</th>  <td>    0.0325</td> <td>    0.038</td> <td>    0.854</td> <td> 0.393</td> <td>   -0.042     0.107</td>\n",
       "</tr>\n",
       "<tr>\n",
       "  <th>STUDYHR</th> <td>   -0.1059</td> <td>    0.074</td> <td>   -1.430</td> <td> 0.153</td> <td>   -0.251     0.039</td>\n",
       "</tr>\n",
       "<tr>\n",
       "  <th>TVHR</th>    <td>    0.0063</td> <td>    0.023</td> <td>    0.271</td> <td> 0.787</td> <td>   -0.039     0.051</td>\n",
       "</tr>\n",
       "<tr>\n",
       "  <th>MOMMY</th>   <td>    0.8701</td> <td>    0.262</td> <td>    3.317</td> <td> 0.001</td> <td>    0.356     1.384</td>\n",
       "</tr>\n",
       "<tr>\n",
       "  <th>DADMY</th>   <td>    1.0250</td> <td>    0.265</td> <td>    3.864</td> <td> 0.000</td> <td>    0.505     1.545</td>\n",
       "</tr>\n",
       "</table>"
      ],
      "text/plain": [
       "<class 'statsmodels.iolib.summary.Summary'>\n",
       "\"\"\"\n",
       "                           Logit Regression Results                           \n",
       "==============================================================================\n",
       "Dep. Variable:                 MYOPIC   No. Observations:                  618\n",
       "Model:                          Logit   Df Residuals:                      608\n",
       "Method:                           MLE   Df Model:                            9\n",
       "Date:                                   Pseudo R-squ.:                 0.08846\n",
       "Time:                                   Log-Likelihood:                -218.81\n",
       "converged:                       True   LL-Null:                       -240.04\n",
       "                                        LLR p-value:                 2.700e-06\n",
       "==============================================================================\n",
       "                 coef    std err          z      P>|z|      [95.0% Conf. Int.]\n",
       "------------------------------------------------------------------------------\n",
       "const         -4.7493      1.287     -3.689      0.000        -7.273    -2.226\n",
       "AGE            0.2744      0.193      1.423      0.155        -0.104     0.652\n",
       "GENDER         0.4241      0.265      1.599      0.110        -0.096     0.944\n",
       "SPORTHR       -0.0425      0.018     -2.329      0.020        -0.078    -0.007\n",
       "READHR         0.0941      0.038      2.446      0.014         0.019     0.169\n",
       "COMPHR         0.0325      0.038      0.854      0.393        -0.042     0.107\n",
       "STUDYHR       -0.1059      0.074     -1.430      0.153        -0.251     0.039\n",
       "TVHR           0.0063      0.023      0.271      0.787        -0.039     0.051\n",
       "MOMMY          0.8701      0.262      3.317      0.001         0.356     1.384\n",
       "DADMY          1.0250      0.265      3.864      0.000         0.505     1.545\n",
       "==============================================================================\n",
       "\"\"\""
      ]
     },
     "execution_count": 15,
     "metadata": {},
     "output_type": "execute_result"
    }
   ],
   "source": [
    "sm.Logit(c, sm.add_constant(X2)).fit().summary()"
   ]
  },
  {
   "cell_type": "markdown",
   "metadata": {},
   "source": [
    "Answer: We can confirm here that genetics (`MOMMY` and `DADMY`) is indeed significant as well as `SPORTHR` and `READHR`.  On the other hand, `AGE`, `GENDER`, `COMPHR`, `STUDYHR` and `TVHR`."
   ]
  },
  {
   "cell_type": "markdown",
   "metadata": {},
   "source": [
    "> ### Question 10.  Now it's time for regularization!  Use `X1`.  According to `Lasso`, what are the non-significant features?"
   ]
  },
  {
   "cell_type": "code",
   "execution_count": 16,
   "metadata": {
    "collapsed": true
   },
   "outputs": [],
   "source": [
    "scaler = preprocessing.MinMaxScaler().fit(X1)\n",
    "\n",
    "X1 = pd.DataFrame(scaler.transform(X1), columns = X1.columns)"
   ]
  },
  {
   "cell_type": "code",
   "execution_count": 17,
   "metadata": {},
   "outputs": [
    {
     "data": {
      "text/plain": [
       "GridSearchCV(cv=KFold(n_splits=5, random_state=0, shuffle=True),\n",
       "       error_score='raise',\n",
       "       estimator=LogisticRegression(C=1.0, class_weight=None, dual=False, fit_intercept=True,\n",
       "          intercept_scaling=1, max_iter=100, multi_class='ovr', n_jobs=1,\n",
       "          penalty='l2', random_state=None, solver='liblinear', tol=0.0001,\n",
       "          verbose=0, warm_start=False),\n",
       "       fit_params={}, iid=True, n_jobs=1,\n",
       "       param_grid={'penalty': ['l1'], 'C': array([  1.00000e-10,   1.00000e-09,   1.00000e-08,   1.00000e-07,\n",
       "         1.00000e-06,   1.00000e-05,   1.00000e-04,   1.00000e-03,\n",
       "         1.00000e-02,   1.00000e-01,   1.00000e+00,   1.00000e+01,\n",
       "         1.00000e+02,   1.00000e+03,   1.00000e+04,   1.00000e+05,\n",
       "         1.00000e+06,   1.00000e+07,   1.00000e+08,   1.00000e+09,\n",
       "         1.00000e+10])},\n",
       "       pre_dispatch='2*n_jobs', refit=True, return_train_score=True,\n",
       "       scoring=None, verbose=0)"
      ]
     },
     "execution_count": 17,
     "metadata": {},
     "output_type": "execute_result"
    }
   ],
   "source": [
    "gs = model_selection.GridSearchCV(\n",
    "    estimator = linear_model.LogisticRegression(),\n",
    "    param_grid = {'C': np.logspace(-10, 10, 21), 'penalty': ['l1']},\n",
    "    cv = model_selection.KFold(n_splits = 5, shuffle = True, random_state = 0)\n",
    ")\n",
    "\n",
    "gs.fit(X1, c)"
   ]
  },
  {
   "cell_type": "code",
   "execution_count": 18,
   "metadata": {},
   "outputs": [
    {
     "data": {
      "text/plain": [
       "{'C': 1.0, 'penalty': 'l1'}"
      ]
     },
     "execution_count": 18,
     "metadata": {},
     "output_type": "execute_result"
    }
   ],
   "source": [
    "gs.best_params_"
   ]
  },
  {
   "cell_type": "code",
   "execution_count": 19,
   "metadata": {},
   "outputs": [
    {
     "data": {
      "text/plain": [
       "LogisticRegression(C=1.0, class_weight=None, dual=False, fit_intercept=True,\n",
       "          intercept_scaling=1, max_iter=100, multi_class='ovr', n_jobs=1,\n",
       "          penalty='l1', random_state=None, solver='liblinear', tol=0.0001,\n",
       "          verbose=0, warm_start=False)"
      ]
     },
     "execution_count": 19,
     "metadata": {},
     "output_type": "execute_result"
    }
   ],
   "source": [
    "gs.best_estimator_"
   ]
  },
  {
   "cell_type": "code",
   "execution_count": 20,
   "metadata": {
    "collapsed": true
   },
   "outputs": [],
   "source": [
    "model = gs.best_estimator_.fit(X1, c)"
   ]
  },
  {
   "cell_type": "code",
   "execution_count": 21,
   "metadata": {},
   "outputs": [
    {
     "name": "stdout",
     "output_type": "stream",
     "text": [
      "[ 0.08253743]\n",
      "[('AGE', 0.0), ('GENDER', 0.56138165167874376), ('SPHEQ', -14.467415253407545), ('AL', 0.0), ('ACD', 1.2126989874317728), ('LT', 0.0), ('VCD', 0.0), ('SPORTHR', -1.2073833113336889), ('READHR', 0.53296714149333957), ('COMPHR', 0.0), ('STUDYHR', -0.58690299798981171), ('TVHR', 0.0), ('DIOPTERHR', 0.0), ('MOMMY', 0.66226868834507657), ('DADMY', 0.80364140631425884)]\n"
     ]
    }
   ],
   "source": [
    "print model.intercept_\n",
    "print zip(X1.columns, model.coef_[0])"
   ]
  },
  {
   "cell_type": "markdown",
   "metadata": {},
   "source": [
    "Answer: `AGE`, `AL`, `LT`, `VCD`, `COMPHR`, `TVHR`, and `DIOPTERHR`."
   ]
  },
  {
   "cell_type": "markdown",
   "metadata": {},
   "source": [
    "> ### Question 11.  What is your conclusions about your parents' claims?"
   ]
  },
  {
   "cell_type": "markdown",
   "metadata": {},
   "source": [
    "Answer:  They are simply wrong based on our data. `COMPHR` and `TVHR` have minimal effect on chance of myopia while genetics and gender significantly increased the odds of myopia.  To our surprise `SPORTHR` and `STUDYHR` seem to decrease the odds of myopia.  This might only be correct in our dataset as it is composed of children under 10.  Maybe those who have eyesight issues do not have that much incentive to involve in sports or may have difficulty studying."
   ]
  },
  {
   "cell_type": "markdown",
   "metadata": {},
   "source": [
    "> ### Question 12.  Draw the ROC curve of your best tuned model"
   ]
  },
  {
   "cell_type": "code",
   "execution_count": 22,
   "metadata": {},
   "outputs": [
    {
     "data": {
      "image/png": "[encoded data removed]"
     },
     "metadata": {},
     "output_type": "display_data"
    }
   ],
   "source": [
    "p_hat = model.predict_proba(X1).T[1]\n",
    "\n",
    "fpr, tpr, thresholds = metrics.roc_curve(c, p_hat)\n",
    "\n",
    "plt.figure()\n",
    "plt.plot(fpr, tpr, label = 'ROC curve (area = %0.2f)' % metrics.auc(fpr, tpr))\n",
    "plt.plot([0, 1], [0, 1], 'k--')\n",
    "plt.xlim([0, 1.01])\n",
    "plt.ylim([0, 1.01])\n",
    "plt.xlabel('FPR')\n",
    "plt.ylabel('TPR')\n",
    "plt.title(\"Myopia's ROC\")\n",
    "plt.legend(loc = 'lower right')"
   ]
  }
 ],
 "metadata": {
  "kernelspec": {
   "display_name": "Python 2",
   "language": "python",
   "name": "python2"
  },
  "language_info": {
   "codemirror_mode": {
    "name": "ipython",
    "version": 2
   },
   "file_extension": ".py",
   "mimetype": "text/x-python",
   "name": "python",
   "nbconvert_exporter": "python",
   "pygments_lexer": "ipython2",
   "version": "2.7.13"
  }
 },
 "nbformat": 4,
 "nbformat_minor": 1
}
